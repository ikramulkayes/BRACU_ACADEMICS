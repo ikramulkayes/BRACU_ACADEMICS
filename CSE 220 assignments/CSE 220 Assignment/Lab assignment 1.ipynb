{
 "cells": [
  {
   "cell_type": "code",
   "execution_count": 1,
   "id": "848454c2",
   "metadata": {},
   "outputs": [
    {
     "name": "stdout",
     "output_type": "stream",
     "text": [
      "[20, 30, 40, 50, 60, 0]\n"
     ]
    }
   ],
   "source": [
    "#Task1\n",
    "def shiftLeft(lst,k):\n",
    "  lenlst = len(lst)\n",
    "  for elm in range(0,len(lst)):\n",
    "    if elm < (lenlst-k):\n",
    "      lst[elm] = lst[elm+k]\n",
    "    else:\n",
    "      lst[elm] = 0\n",
    " \n",
    "\n",
    "  \n",
    "  return lst\n",
    "\n",
    "print(shiftLeft([10,20,30,40,50,60],1))"
   ]
  },
  {
   "cell_type": "code",
   "execution_count": 2,
   "id": "640692d6",
   "metadata": {},
   "outputs": [
    {
     "name": "stdout",
     "output_type": "stream",
     "text": [
      "[50, 60, 30, 40, 10, 20]\n"
     ]
    }
   ],
   "source": [
    "#Task2\n",
    "def rotateLeft(lst,k):\n",
    "  lenlst = len(lst)\n",
    "  for elm in range(0,len(lst)):\n",
    "    if elm < (lenlst-k):\n",
    "      temp = lst[elm]\n",
    "      lst[elm] = lst[elm+k]\n",
    "      \n",
    "      lst[elm+k] = temp\n",
    "    else:\n",
    "      break\n",
    "  return lst\n",
    "print(rotateLeft([10,20,30,40,50,60],4))"
   ]
  },
  {
   "cell_type": "code",
   "execution_count": 3,
   "id": "21dd321c",
   "metadata": {},
   "outputs": [
    {
     "name": "stdout",
     "output_type": "stream",
     "text": [
      "[0, 0, 0, 0, 10, 20]\n"
     ]
    }
   ],
   "source": [
    "#Task 3\n",
    "def shiftRight(lst,k):\n",
    "  lenlst = len(lst)\n",
    "  for belm in range(k):\n",
    "    temp = lst[0]\n",
    "    lst[0] = 0\n",
    "    \n",
    "    for elm in range(1,len(lst)):\n",
    "      ftemp = lst[elm]\n",
    "      lst[elm] = temp\n",
    "      temp = ftemp\n",
    "  return lst\n",
    "print(shiftRight([10,20,30,40,50,60],4))"
   ]
  },
  {
   "cell_type": "code",
   "execution_count": 4,
   "id": "68dec818",
   "metadata": {},
   "outputs": [
    {
     "name": "stdout",
     "output_type": "stream",
     "text": [
      "[40, 50, 60, 10, 20, 30]\n"
     ]
    }
   ],
   "source": [
    "#Task 4\n",
    "def rotateRight(lst,k):\n",
    "  lenlst = len(lst)\n",
    "  for belm in range(k):\n",
    "    temp = lst[-1]\n",
    "    ktemp = lst[0]\n",
    "\n",
    "    \n",
    "\n",
    "    for elm in range(1,len(lst)):\n",
    "      kktemp = lst[elm]\n",
    "      lst[elm] = ktemp\n",
    "      ktemp = kktemp\n",
    "\n",
    "    lst[0] = temp\n",
    "  return lst \n",
    "print(rotateRight([10,20,30,40,50,60],3))"
   ]
  },
  {
   "cell_type": "code",
   "execution_count": 5,
   "id": "ffa29f5f",
   "metadata": {},
   "outputs": [],
   "source": [
    "#Task 5\n",
    "def removeElm(lst,size,idx):\n",
    "    if size==len(lst):\n",
    "        return \"Get a valid size\"\n",
    "    elif idx <0 or idx>size:\n",
    "        return \"Get a valid index\"\n",
    "    while idx < size:\n",
    "        lst[idx] = lst[idx+1]\n",
    "        idx += 1\n",
    "    return lst\n",
    "\n",
    "lst = [10,20,30,40,50,0,0]\n",
    "print(removeElm(lst, 5,4))"
   ]
  },
  {
   "cell_type": "code",
   "execution_count": 7,
   "id": "ff9dd8d8",
   "metadata": {},
   "outputs": [
    {
     "ename": "IndexError",
     "evalue": "list index out of range",
     "output_type": "error",
     "traceback": [
      "\u001b[1;31m---------------------------------------------------------------------------\u001b[0m",
      "\u001b[1;31mIndexError\u001b[0m                                Traceback (most recent call last)",
      "Input \u001b[1;32mIn [7]\u001b[0m, in \u001b[0;36m<cell line: 20>\u001b[1;34m()\u001b[0m\n\u001b[0;32m     17\u001b[0m     \u001b[38;5;28;01mreturn\u001b[39;00m lst\n\u001b[0;32m     19\u001b[0m source\u001b[38;5;241m=\u001b[39m[\u001b[38;5;241m10\u001b[39m,\u001b[38;5;241m2\u001b[39m,\u001b[38;5;241m30\u001b[39m,\u001b[38;5;241m2\u001b[39m,\u001b[38;5;241m50\u001b[39m,\u001b[38;5;241m2\u001b[39m,\u001b[38;5;241m2\u001b[39m,\u001b[38;5;241m2\u001b[39m,\u001b[38;5;241m2\u001b[39m]\n\u001b[1;32m---> 20\u001b[0m \u001b[38;5;28mprint\u001b[39m(\u001b[43mmakeitvanish\u001b[49m\u001b[43m(\u001b[49m\u001b[43msource\u001b[49m\u001b[43m,\u001b[49m\u001b[38;5;241;43m9\u001b[39;49m\u001b[43m,\u001b[49m\u001b[38;5;241;43m2\u001b[39;49m\u001b[43m)\u001b[49m)\n",
      "Input \u001b[1;32mIn [7]\u001b[0m, in \u001b[0;36mmakeitvanish\u001b[1;34m(lst, size, value)\u001b[0m\n\u001b[0;32m      9\u001b[0m i \u001b[38;5;241m=\u001b[39m idx\n\u001b[0;32m     10\u001b[0m \u001b[38;5;28;01mwhile\u001b[39;00m i \u001b[38;5;241m<\u001b[39m size:\n\u001b[1;32m---> 11\u001b[0m     lst[i] \u001b[38;5;241m=\u001b[39m \u001b[43mlst\u001b[49m\u001b[43m[\u001b[49m\u001b[43mi\u001b[49m\u001b[38;5;241;43m+\u001b[39;49m\u001b[38;5;241;43m1\u001b[39;49m\u001b[43m]\u001b[49m\n\u001b[0;32m     12\u001b[0m     i \u001b[38;5;241m+\u001b[39m\u001b[38;5;241m=\u001b[39m \u001b[38;5;241m1\u001b[39m\n\u001b[0;32m     13\u001b[0m lst[size\u001b[38;5;241m-\u001b[39m\u001b[38;5;241m1\u001b[39m] \u001b[38;5;241m=\u001b[39m \u001b[38;5;241m0\u001b[39m\n",
      "\u001b[1;31mIndexError\u001b[0m: list index out of range"
     ]
    }
   ],
   "source": [
    "\n",
    "#Task 6\n",
    "def makeitvanish(lst,size,value):\n",
    "    if size > len(lst):\n",
    "        return \"Take  the correct size\"\n",
    "    else:\n",
    "        idx = 0\n",
    "        while idx < size:\n",
    "            if lst[idx] == value:\n",
    "                i = idx\n",
    "                while i < size:\n",
    "                    lst[i] = lst[i+1]\n",
    "                    i += 1\n",
    "                lst[size-1] = 0\n",
    "                size -= 1\n",
    "            else:\n",
    "                idx += 1\n",
    "    return lst\n",
    "\n",
    "source=[10,2,30,2,50,2,2,2,2]\n",
    "print(makeitvanish(source,9,2))"
   ]
  },
  {
   "cell_type": "code",
   "execution_count": 7,
   "id": "ed68a376",
   "metadata": {},
   "outputs": [
    {
     "name": "stdout",
     "output_type": "stream",
     "text": [
      "True\n"
     ]
    }
   ],
   "source": [
    "\n",
    "#Task 7\n",
    "def splittingArray(lst):\n",
    "    \n",
    "    \n",
    "    for belm in range(1,len(lst)):\n",
    "        sum1 = 0\n",
    "        sum2 = 0\n",
    "        for elm in range(belm):\n",
    "            \n",
    "            sum1 += lst[elm]\n",
    "        \n",
    "        for elm in range(belm,len(lst)):\n",
    "            \n",
    "            sum2 += lst[elm]\n",
    "        \n",
    "        if sum1 == sum2:\n",
    "            return True\n",
    "    return False\n",
    "\n",
    "lst = [10, 3, 1, 2, 10]\n",
    "print(splittingArray(lst))"
   ]
  },
  {
   "cell_type": "code",
   "execution_count": 8,
   "id": "1e59ad53",
   "metadata": {},
   "outputs": [
    {
     "name": "stdout",
     "output_type": "stream",
     "text": [
      "[0, 0, 0, 0, 0, 0, 0, 0, 0, 1, 0, 0, 0, 0, 0, 0, 0, 0, 2, 1, 0, 0, 0, 0, 0, 0, 0, 3, 2, 1, 0, 0, 0, 0, 0, 0, 4, 3, 2, 1, 0, 0, 0, 0, 0, 5, 4, 3, 2, 1, 0, 0, 0, 0, 6, 5, 4, 3, 2, 1, 0, 0, 0, 7, 6, 5, 4, 3, 2, 1, 0, 0, 8, 7, 6, 5, 4, 3, 2, 1, 0, 9, 8, 7, 6, 5, 4, 3, 2, 1, 10, 9, 8, 7, 6, 5, 4, 3, 2, 1]\n"
     ]
    }
   ],
   "source": [
    "#Task 8\n",
    "def arraySeries(n):\n",
    "    lst = [0]*(n*n)\n",
    "    count = 0\n",
    "    stepcount = n-1\n",
    "\n",
    "    for i in range(1,n+1):\n",
    "        for elm in range(i):\n",
    "            lst[stepcount-elm] = elm+1\n",
    "        stepcount+= n\n",
    "    return lst\n",
    "\n",
    "print(arraySeries(10))"
   ]
  },
  {
   "cell_type": "code",
   "execution_count": 9,
   "id": "762aa194",
   "metadata": {},
   "outputs": [
    {
     "name": "stdout",
     "output_type": "stream",
     "text": [
      "6\n"
     ]
    }
   ],
   "source": [
    "#Task 9\n",
    "def maxBunchcount(lst):\n",
    "    maxcount = None\n",
    "    count = None\n",
    "    prev= None\n",
    "    for elm in range(len(lst)):\n",
    "        if prev == None and maxcount==None:\n",
    "            prev = lst[elm]\n",
    "            count = 1\n",
    "            maxcount = 1\n",
    "        elif lst[elm] == prev:\n",
    "            #print(lst[elm])\n",
    "            count += 1\n",
    "            if count > maxcount:\n",
    "                #print(lst[elm])\n",
    "                #print(count)\n",
    "                maxcount = count\n",
    "        else:\n",
    "            prev = lst[elm]\n",
    "            count = 1\n",
    "    return maxcount\n",
    "\n",
    "lst = [1,1,1,1,1,1, 2, 2, 3,3,4, 4, 4, 4,3,3,3,3,3]\n",
    "print(maxBunchcount(lst))"
   ]
  },
  {
   "cell_type": "code",
   "execution_count": 11,
   "id": "2f7ee23a",
   "metadata": {},
   "outputs": [
    {
     "name": "stdout",
     "output_type": "stream",
     "text": [
      "False\n"
     ]
    }
   ],
   "source": [
    "#Task 10\n",
    "def doubleRepeat(lst):\n",
    "    rlst = [None]*len(lst)\n",
    "    rlstcount = 0\n",
    "    countlst = [None]*len(lst)\n",
    "    countlstcount = 0\n",
    "    #flag = True\n",
    "    for elm in lst:\n",
    "        flag=True\n",
    "        if len(rlst)==0:\n",
    "            rlst[0] = elm\n",
    "            rlstcount+= 1\n",
    "        else:\n",
    "            for selm in rlst:\n",
    "                if selm == elm:\n",
    "                    flag = False\n",
    "                    pass\n",
    "            if flag == True:\n",
    "                rlst[rlstcount] = elm\n",
    "                rlstcount+=1\n",
    "        if flag:\n",
    "            count = 0\n",
    "            for kelm in lst:\n",
    "                if elm == kelm:\n",
    "                    count+= 1\n",
    "            \n",
    "            countlst[countlstcount] = count\n",
    "            countlstcount +=1\n",
    "    #print(rlst)\n",
    "    #print(countlst)\n",
    "    checklst = [0]*len(lst)\n",
    "    count = 0\n",
    "    for elm in countlst:\n",
    "        for selm in checklst:\n",
    "            if elm != None:\n",
    "                if elm >1 and elm==selm:\n",
    "                    #print(elm)\n",
    "                    return True\n",
    "        checklst[count] = elm\n",
    "        count+= 1\n",
    "    return False\n",
    "\n",
    "lst = [3,4,6,3,4,7,4,6,8,6,6,4]\n",
    "print(doubleRepeat(lst))"
   ]
  },
  {
   "cell_type": "code",
   "execution_count": 15,
   "id": "b800d97d",
   "metadata": {},
   "outputs": [
    {
     "name": "stdout",
     "output_type": "stream",
     "text": [
      "Input a correct index\n"
     ]
    }
   ],
   "source": [
    "def remove(source, size, idx):\n",
    "    y = 0\n",
    "    if idx >= size:\n",
    "        return \"Input a correct index\"\n",
    "    for x in range(idx, size-1, 1):\n",
    "        source[x] = source[x+1]\n",
    "\n",
    "    source[size-1] = 0\n",
    "    return source \n",
    "    \n",
    "source = [10, 20, 30, 40, 50]\n",
    "print(remove(source, 5, 6))"
   ]
  },
  {
   "cell_type": "code",
   "execution_count": 30,
   "id": "e47c89bc",
   "metadata": {},
   "outputs": [
    {
     "name": "stdout",
     "output_type": "stream",
     "text": [
      "False\n"
     ]
    }
   ],
   "source": [
    "def repetation(source):\n",
    "    count = 0\n",
    "    temp = 0\n",
    "    increment = 0\n",
    "    narray = [None]*len(source)\n",
    "    new = [None]* len(narray)\n",
    "    for i in range(len(source)):\n",
    "        count = 1\n",
    "        for j in range((i+1), len(source)):\n",
    "            if source[i] == source[j]:\n",
    "                count += 1\n",
    "\n",
    "                narray[j] = temp\n",
    "\n",
    "        if narray[i] != temp:\n",
    "            narray[i] = count\n",
    "    #print(narray)\n",
    "\n",
    "    for elm in narray:\n",
    "        if elm > 1:\n",
    "            for i in new:\n",
    "                if i ==elm:\n",
    "                    return True\n",
    "        new[increment] = elm\n",
    "        increment += 1\n",
    "    return False\n",
    "        \n",
    "\n",
    "source = [4,5,6,6,4,3,6] \n",
    "print(repetation(source))\n",
    "\n"
   ]
  },
  {
   "cell_type": "code",
   "execution_count": null,
   "id": "83966a5e",
   "metadata": {},
   "outputs": [],
   "source": []
  }
 ],
 "metadata": {
  "kernelspec": {
   "display_name": "Python 3 (ipykernel)",
   "language": "python",
   "name": "python3"
  },
  "language_info": {
   "codemirror_mode": {
    "name": "ipython",
    "version": 3
   },
   "file_extension": ".py",
   "mimetype": "text/x-python",
   "name": "python",
   "nbconvert_exporter": "python",
   "pygments_lexer": "ipython3",
   "version": "3.9.12"
  }
 },
 "nbformat": 4,
 "nbformat_minor": 5
}
