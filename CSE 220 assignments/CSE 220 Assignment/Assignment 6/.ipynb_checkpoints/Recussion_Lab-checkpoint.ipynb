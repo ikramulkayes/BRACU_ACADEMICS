{
 "cells": [
  {
   "cell_type": "code",
   "execution_count": null,
   "metadata": {
    "colab": {
     "base_uri": "https://localhost:8080/"
    },
    "id": "8xbgogD-8tGs",
    "outputId": "9e673a1c-2ff7-4e37-9e2e-0bdc543a2db8"
   },
   "outputs": [
    {
     "name": "stdout",
     "output_type": "stream",
     "text": [
      "27\n"
     ]
    }
   ],
   "source": [
    "def powerN(a,b):\n",
    "  if b == 1 or b==0:\n",
    "    return a\n",
    "  else:\n",
    "    \n",
    "    return a*powerN(a,b-1)\n",
    "print(powerN(3,3))"
   ]
  },
  {
   "cell_type": "code",
   "execution_count": null,
   "metadata": {
    "colab": {
     "base_uri": "https://localhost:8080/"
    },
    "id": "yLJZphfU9lNA",
    "outputId": "a7e51c58-7953-4f46-83c1-e42d537299cc"
   },
   "outputs": [
    {
     "name": "stdout",
     "output_type": "stream",
     "text": [
      "89\n"
     ]
    }
   ],
   "source": [
    "def fibonachiN(n):\n",
    "  if n==0:\n",
    "    return 1\n",
    "  elif n == 1:\n",
    "    return 1\n",
    "  else:\n",
    "    return fibonachiN(n-1)+fibonachiN(n-2)\n",
    "\n",
    "print(fibonachiN(10))"
   ]
  },
  {
   "cell_type": "code",
   "execution_count": null,
   "metadata": {
    "colab": {
     "base_uri": "https://localhost:8080/"
    },
    "id": "hngEEXNQAo4v",
    "outputId": "e31e6294-a6de-4d86-9d6b-4eeefe42bc64"
   },
   "outputs": [
    {
     "name": "stdout",
     "output_type": "stream",
     "text": [
      "6\n",
      "5\n",
      "4\n",
      "3\n",
      "2\n",
      "1\n"
     ]
    }
   ],
   "source": [
    "def iterate_lst(lst,size):\n",
    " \n",
    "  if size == 1:\n",
    "    print(lst[size-1])\n",
    "    return \n",
    "  else:\n",
    "    print(lst[size-len(lst)+1])\n",
    "    return iterate_lst(lst,size-1)\n",
    "  \n",
    "iterate_lst([1,2,3,4,5,6],6)\n"
   ]
  },
  {
   "cell_type": "code",
   "execution_count": null,
   "metadata": {
    "colab": {
     "base_uri": "https://localhost:8080/"
    },
    "id": "-x1K88TMDvTK",
    "outputId": "2e539e79-bece-43ad-c765-c0d46adb7e74"
   },
   "outputs": [
    {
     "name": "stdout",
     "output_type": "stream",
     "text": [
      "1, 2, 3, 4, 5, 6\n"
     ]
    }
   ],
   "source": [
    "class lst_iterate:\n",
    "  def __init__(self,lst):\n",
    "    self.lst = lst\n",
    "    self.size = len(lst)\n",
    "    self.count = 0\n",
    "  def forwardprint(self):\n",
    "    if self.count == self.size-1:\n",
    "      print(self.lst[self.count])\n",
    "      return \n",
    "    else:\n",
    "      print(str(self.lst[self.count])+\", \",end =\"\")\n",
    "      self.count += 1\n",
    "      return self.forwardprint()\n",
    "\n",
    "obj = lst_iterate([1,2,3,4,5,6])\n",
    "obj.forwardprint()"
   ]
  },
  {
   "cell_type": "code",
   "execution_count": null,
   "metadata": {
    "colab": {
     "base_uri": "https://localhost:8080/"
    },
    "id": "mK_PCIMmISb1",
    "outputId": "1a3d9cf5-0ea9-4895-8961-c9d99542c825"
   },
   "outputs": [
    {
     "name": "stdout",
     "output_type": "stream",
     "text": [
      "1, 2, 3, 4, 5, 6\n"
     ]
    }
   ],
   "source": [
    "def func(lst,n=0):\n",
    "  if n == len(lst)-1:\n",
    "    print(lst[n])\n",
    "  else:\n",
    "    print(str(lst[n])+\", \",end=\"\")\n",
    "    \n",
    "    return func(lst,n+1)\n",
    "\n",
    "func([1,2,3,4,5,6])"
   ]
  },
  {
   "cell_type": "code",
   "execution_count": null,
   "metadata": {
    "colab": {
     "base_uri": "https://localhost:8080/"
    },
    "id": "Yp6yqnZ6NelX",
    "outputId": "96943ca0-ec7c-4bcb-b870-c034319be1ff"
   },
   "outputs": [
    {
     "name": "stdout",
     "output_type": "stream",
     "text": [
      "3628800\n"
     ]
    }
   ],
   "source": [
    "def facto(n):\n",
    "  if n ==0:\n",
    "    return n\n",
    "  elif n==1:\n",
    "    return 1\n",
    "  else:\n",
    "    return n*facto(n-1)\n",
    "\n",
    "print(facto(10))"
   ]
  },
  {
   "cell_type": "code",
   "execution_count": null,
   "metadata": {
    "colab": {
     "base_uri": "https://localhost:8080/"
    },
    "id": "JSDNFkSyPPfo",
    "outputId": "e653ca62-ecf3-4445-c21d-c1286b5b32e7"
   },
   "outputs": [
    {
     "name": "stdout",
     "output_type": "stream",
     "text": [
      "10101101100111"
     ]
    }
   ],
   "source": [
    "def decimal_to_binary(num):\n",
    "  if num ==1:\n",
    "    print(\"1\",end=\"\")\n",
    "  elif num ==0:\n",
    "    \n",
    "    print(\"0\")\n",
    "    \n",
    "  else:\n",
    "    if num % 2 ==0:\n",
    "      decimal_to_binary(num//2)\n",
    "      print(\"0\",end=\"\")\n",
    "    else:\n",
    "      decimal_to_binary(num//2)\n",
    "      print(\"1\",end=\"\")\n",
    "\n",
    "decimal_to_binary(11111)\n",
    "\n"
   ]
  },
  {
   "cell_type": "code",
   "execution_count": 2,
   "metadata": {
    "colab": {
     "base_uri": "https://localhost:8080/"
    },
    "id": "fON4yTW_Y1AS",
    "outputId": "9f9a56af-faa4-4455-f62e-9887723e5280"
   },
   "outputs": [
    {
     "name": "stdout",
     "output_type": "stream",
     "text": [
      "21\n"
     ]
    }
   ],
   "source": [
    "class Node:\n",
    "    def __init__(self,elm,next):\n",
    "        self.elm = elm\n",
    "        self.next = next\n",
    "\n",
    "def sum_nodes(head):\n",
    "    if head.next == None:\n",
    "        return head.elm\n",
    "    else:\n",
    "        return head.elm + sum_nodes(head.next)\n",
    "\n",
    "lst = [1,2,3,4,5,6]\n",
    "head = Node(lst[0], None)\n",
    "obj = head\n",
    "\n",
    "for elm in range(1, len(lst)):\n",
    "    temp = Node(lst[elm], None)\n",
    "    obj.next = temp\n",
    "    obj = temp\n",
    "\n",
    "print(sum_nodes(head))"
   ]
  },
  {
   "cell_type": "code",
   "execution_count": null,
   "metadata": {
    "colab": {
     "base_uri": "https://localhost:8080/"
    },
    "id": "ESxTkFSQID5V",
    "outputId": "e29f3b66-e9ef-40cb-c349-987e38d0a2e2"
   },
   "outputs": [
    {
     "name": "stdout",
     "output_type": "stream",
     "text": [
      "40\n",
      "30\n",
      "20\n",
      "10\n"
     ]
    }
   ],
   "source": [
    "class Node:\n",
    "    def __init__(self,val,next):\n",
    "        self.val = val\n",
    "        self.next = next\n",
    "\n",
    "lst = [10,20,30,40]\n",
    "obj = Node(lst[0], None)\n",
    "head = obj\n",
    "for elm in range(1,len(lst)):\n",
    "    k = Node(lst[elm], None)\n",
    "    obj.next = k\n",
    "    obj = k\n",
    "\n",
    "def reverse_print(head):\n",
    "    if head.next == None:\n",
    "        print(head.val)\n",
    "    else:\n",
    "        reverse_print(head.next)\n",
    "        print(head.val)\n",
    "\n",
    "\n",
    "reverse_print(head)"
   ]
  },
  {
   "cell_type": "code",
   "execution_count": null,
   "metadata": {
    "colab": {
     "base_uri": "https://localhost:8080/"
    },
    "id": "4y4PJ4g9IKjc",
    "outputId": "7762b93f-933a-4da8-b40a-467c061467da"
   },
   "outputs": [
    {
     "name": "stdout",
     "output_type": "stream",
     "text": [
      "18\n"
     ]
    }
   ],
   "source": [
    "def hocBuilder(height): \n",
    "    if height ==0:\n",
    "        return 0\n",
    "    elif height ==1:\n",
    "        return 8\n",
    "    else:\n",
    "        return 5 + hocBuilder(height-1)\n",
    "\n",
    "print(hocBuilder(3))"
   ]
  },
  {
   "cell_type": "code",
   "execution_count": null,
   "metadata": {
    "colab": {
     "base_uri": "https://localhost:8080/",
     "height": 122
    },
    "id": "HsKdHDbavXqO",
    "outputId": "fc5df02f-a86a-408c-fd16-84abd3182390"
   },
   "outputs": [
    {
     "name": "stdout",
     "output_type": "stream",
     "text": [
      "1\n",
      "12\n",
      "123\n",
      "1234\n",
      "12345\n"
     ]
    },
    {
     "data": {
      "application/vnd.google.colaboratory.intrinsic+json": {
       "type": "string"
      },
      "text/plain": [
       "'12345'"
      ]
     },
     "execution_count": 5,
     "metadata": {},
     "output_type": "execute_result"
    }
   ],
   "source": [
    "def print_lefty(num):\n",
    "    num = str(num)\n",
    "    if num ==\"0\":\n",
    "        \n",
    "        return \"\"\n",
    "    else:\n",
    "        k = print_lefty(int(num)-1)+num \n",
    "        print(k)\n",
    "        return k\n",
    "print_lefty(5)   \n"
   ]
  },
  {
   "cell_type": "code",
   "execution_count": null,
   "metadata": {
    "colab": {
     "base_uri": "https://localhost:8080/",
     "height": 122
    },
    "id": "hRbY-A6bvpJQ",
    "outputId": "216a4b15-0727-4afb-e837-b2e5175c1871"
   },
   "outputs": [
    {
     "name": "stdout",
     "output_type": "stream",
     "text": [
      "    1\n",
      "   12\n",
      "  123\n",
      " 1234\n",
      "12345\n"
     ]
    },
    {
     "data": {
      "application/vnd.google.colaboratory.intrinsic+json": {
       "type": "string"
      },
      "text/plain": [
       "'12345'"
      ]
     },
     "execution_count": 6,
     "metadata": {},
     "output_type": "execute_result"
    }
   ],
   "source": [
    "def print_righty(num,count=0):\n",
    "    num = str(num)\n",
    "    \n",
    "    if num ==\"0\":\n",
    "        \n",
    "        return \"\"\n",
    "    else:\n",
    "        count += 1\n",
    "        k = print_righty(int(num)-1,count)+num \n",
    "        print(\" \"*(count-1)+str(k))\n",
    "        return k\n",
    "print_righty(5)   "
   ]
  },
  {
   "cell_type": "code",
   "execution_count": 1,
   "metadata": {
    "colab": {
     "base_uri": "https://localhost:8080/"
    },
    "id": "-YOTdpy7-GQB",
    "outputId": "66d58353-35a3-4ded-a7ee-96d8c328c229"
   },
   "outputs": [
    {
     "name": "stdout",
     "output_type": "stream",
     "text": [
      "Invesment: 25000; Profit: 0.0\n",
      "Invesment: 100000; Profit: 3375.0\n",
      "Invesment: 250000; Profit: 15375.0\n",
      "Invesment: 350000; Profit: 23375.0\n"
     ]
    }
   ],
   "source": [
    "class Node:\n",
    "    def __init__(self,elm,next):\n",
    "        self.elm = elm\n",
    "        self.next = next\n",
    "\n",
    "class profit_expert:\n",
    "    def __init__(self):\n",
    "        self.head = Node(None,None)\n",
    "        self.obj = self.head\n",
    "    def taking_array(self,lst,n=0):\n",
    "        self.lst = lst\n",
    "        gg =  self.profit(lst[n])\n",
    "        self.obj.elm = gg\n",
    "        tempnode = Node(None, None)\n",
    "        self.obj.next = tempnode\n",
    "        self.obj = tempnode\n",
    "        #print(f\"Investment: {lst[n]} Profit: {gg}\")\n",
    "        n += 1\n",
    "        if n < len(lst):\n",
    "\n",
    "            self.taking_array(lst,n)\n",
    "\n",
    "        \n",
    "            \n",
    "\n",
    "\n",
    "    \n",
    "    def profit(self,capital):\n",
    "        if capital <= 25000:\n",
    "            return 0.0\n",
    "        elif capital <= 100000:\n",
    "            return 45.0 + self.profit(capital-1000)\n",
    "        elif capital > 100000:\n",
    "            return 80.0 + self.profit(capital - 1000)\n",
    "        else:\n",
    "            return 0.0\n",
    "    def print_profits(self):\n",
    "        obj = self.head\n",
    "        count = 0\n",
    "        while obj.elm != None:\n",
    "            print(f\"Invesment: {self.lst[count]}; Profit: {obj.elm}\")\n",
    "            obj = obj.next\n",
    "            count += 1\n",
    "\n",
    "\n",
    "lst =[25000, 100000, 250000, 350000]       \n",
    "s = profit_expert()\n",
    "s.taking_array(lst)\n",
    "s.print_profits()"
   ]
  }
 ],
 "metadata": {
  "colab": {
   "provenance": []
  },
  "kernelspec": {
   "display_name": "Python 3 (ipykernel)",
   "language": "python",
   "name": "python3"
  },
  "language_info": {
   "codemirror_mode": {
    "name": "ipython",
    "version": 3
   },
   "file_extension": ".py",
   "mimetype": "text/x-python",
   "name": "python",
   "nbconvert_exporter": "python",
   "pygments_lexer": "ipython3",
   "version": "3.9.12"
  }
 },
 "nbformat": 4,
 "nbformat_minor": 1
}
