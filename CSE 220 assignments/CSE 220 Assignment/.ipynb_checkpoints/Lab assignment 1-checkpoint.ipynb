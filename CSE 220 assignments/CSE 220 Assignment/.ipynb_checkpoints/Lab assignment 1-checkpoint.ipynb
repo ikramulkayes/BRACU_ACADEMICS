{
 "cells": [
  {
   "cell_type": "code",
   "execution_count": 1,
   "id": "848454c2",
   "metadata": {},
   "outputs": [
    {
     "name": "stdout",
     "output_type": "stream",
     "text": [
      "[20, 30, 40, 50, 60, 0]\n"
     ]
    }
   ],
   "source": [
    "#Task1\n",
    "def shiftLeft(lst,k):\n",
    "  lenlst = len(lst)\n",
    "  for elm in range(0,len(lst)):\n",
    "    if elm < (lenlst-k):\n",
    "      lst[elm] = lst[elm+k]\n",
    "    else:\n",
    "      lst[elm] = 0\n",
    " \n",
    "\n",
    "  \n",
    "  return lst\n",
    "\n",
    "print(shiftLeft([10,20,30,40,50,60],1))"
   ]
  },
  {
   "cell_type": "code",
   "execution_count": 2,
   "id": "640692d6",
   "metadata": {},
   "outputs": [
    {
     "name": "stdout",
     "output_type": "stream",
     "text": [
      "[50, 60, 30, 40, 10, 20]\n"
     ]
    }
   ],
   "source": [
    "#Task2\n",
    "def rotateLeft(lst,k):\n",
    "  lenlst = len(lst)\n",
    "  for elm in range(0,len(lst)):\n",
    "    if elm < (lenlst-k):\n",
    "      temp = lst[elm]\n",
    "      lst[elm] = lst[elm+k]\n",
    "      \n",
    "      lst[elm+k] = temp\n",
    "    else:\n",
    "      break\n",
    "  return lst\n",
    "print(rotateLeft([10,20,30,40,50,60],4))"
   ]
  },
  {
   "cell_type": "code",
   "execution_count": 3,
   "id": "21dd321c",
   "metadata": {},
   "outputs": [
    {
     "name": "stdout",
     "output_type": "stream",
     "text": [
      "[0, 0, 0, 0, 10, 20]\n"
     ]
    }
   ],
   "source": [
    "#Task 3\n",
    "def shiftRight(lst,k):\n",
    "  lenlst = len(lst)\n",
    "  for belm in range(k):\n",
    "    temp = lst[0]\n",
    "    lst[0] = 0\n",
    "    \n",
    "    for elm in range(1,len(lst)):\n",
    "      ftemp = lst[elm]\n",
    "      lst[elm] = temp\n",
    "      temp = ftemp\n",
    "  return lst\n",
    "print(shiftRight([10,20,30,40,50,60],4))"
   ]
  },
  {
   "cell_type": "code",
   "execution_count": 4,
   "id": "68dec818",
   "metadata": {},
   "outputs": [
    {
     "name": "stdout",
     "output_type": "stream",
     "text": [
      "[40, 50, 60, 10, 20, 30]\n"
     ]
    }
   ],
   "source": [
    "#Task 4\n",
    "def rotateRight(lst,k):\n",
    "  lenlst = len(lst)\n",
    "  for belm in range(k):\n",
    "    temp = lst[-1]\n",
    "    ktemp = lst[0]\n",
    "\n",
    "    \n",
    "\n",
    "    for elm in range(1,len(lst)):\n",
    "      kktemp = lst[elm]\n",
    "      lst[elm] = ktemp\n",
    "      ktemp = kktemp\n",
    "\n",
    "    lst[0] = temp\n",
    "  return lst \n",
    "print(rotateRight([10,20,30,40,50,60],3))"
   ]
  },
  {
   "cell_type": "code",
   "execution_count": 5,
   "id": "ffa29f5f",
   "metadata": {},
   "outputs": [],
   "source": [
    "#"
   ]
  },
  {
   "cell_type": "code",
   "execution_count": 6,
   "id": "ff9dd8d8",
   "metadata": {},
   "outputs": [
    {
     "name": "stdout",
     "output_type": "stream",
     "text": [
      "[10, 30, 50, 0, 0, 0, 0, 0, 0, 0, 0, 0, 0]\n"
     ]
    }
   ],
   "source": [
    "\n",
    "#Task 6\n",
    "def makeitvanish(lst,size,value):\n",
    "    if size > len(lst):\n",
    "        return \"Take  the correct size\"\n",
    "    else:\n",
    "        idx = 0\n",
    "        while idx < size:\n",
    "            if lst[idx] == value:\n",
    "                i = idx\n",
    "                while i < size:\n",
    "                    lst[i] = lst[i+1]\n",
    "                    i += 1\n",
    "                lst[size-1] = 0\n",
    "                size -= 1\n",
    "            else:\n",
    "                idx += 1\n",
    "    return lst\n",
    "\n",
    "source=[2,10,2,30,2,2,50,2,2,2,2,0,0]\n",
    "print(makeitvanish(source,11,2))"
   ]
  },
  {
   "cell_type": "code",
   "execution_count": 7,
   "id": "ed68a376",
   "metadata": {},
   "outputs": [
    {
     "name": "stdout",
     "output_type": "stream",
     "text": [
      "True\n"
     ]
    }
   ],
   "source": [
    "\n",
    "#Task 7\n",
    "def splittingArray(lst):\n",
    "    \n",
    "    \n",
    "    for belm in range(1,len(lst)):\n",
    "        sum1 = 0\n",
    "        sum2 = 0\n",
    "        for elm in range(belm):\n",
    "            \n",
    "            sum1 += lst[elm]\n",
    "        \n",
    "        for elm in range(belm,len(lst)):\n",
    "            \n",
    "            sum2 += lst[elm]\n",
    "        \n",
    "        if sum1 == sum2:\n",
    "            return True\n",
    "    return False\n",
    "\n",
    "lst = [10, 3, 1, 2, 10]\n",
    "print(splittingArray(lst))"
   ]
  },
  {
   "cell_type": "code",
   "execution_count": 8,
   "id": "1e59ad53",
   "metadata": {},
   "outputs": [
    {
     "name": "stdout",
     "output_type": "stream",
     "text": [
      "[0, 0, 0, 0, 0, 0, 0, 0, 0, 1, 0, 0, 0, 0, 0, 0, 0, 0, 2, 1, 0, 0, 0, 0, 0, 0, 0, 3, 2, 1, 0, 0, 0, 0, 0, 0, 4, 3, 2, 1, 0, 0, 0, 0, 0, 5, 4, 3, 2, 1, 0, 0, 0, 0, 6, 5, 4, 3, 2, 1, 0, 0, 0, 7, 6, 5, 4, 3, 2, 1, 0, 0, 8, 7, 6, 5, 4, 3, 2, 1, 0, 9, 8, 7, 6, 5, 4, 3, 2, 1, 10, 9, 8, 7, 6, 5, 4, 3, 2, 1]\n"
     ]
    }
   ],
   "source": [
    "#Task 8\n",
    "def arraySeries(n):\n",
    "    lst = [0]*(n*n)\n",
    "    count = 0\n",
    "    stepcount = n-1\n",
    "\n",
    "    for i in range(1,n+1):\n",
    "        for elm in range(i):\n",
    "            lst[stepcount-elm] = elm+1\n",
    "        stepcount+= n\n",
    "    return lst\n",
    "\n",
    "print(arraySeries(10))"
   ]
  },
  {
   "cell_type": "code",
   "execution_count": 9,
   "id": "762aa194",
   "metadata": {},
   "outputs": [
    {
     "name": "stdout",
     "output_type": "stream",
     "text": [
      "6\n"
     ]
    }
   ],
   "source": [
    "#Task 9\n",
    "def maxBunchcount(lst):\n",
    "    maxcount = None\n",
    "    count = None\n",
    "    prev= None\n",
    "    for elm in range(len(lst)):\n",
    "        if prev == None and maxcount==None:\n",
    "            prev = lst[elm]\n",
    "            count = 1\n",
    "            maxcount = 1\n",
    "        elif lst[elm] == prev:\n",
    "            #print(lst[elm])\n",
    "            count += 1\n",
    "            if count > maxcount:\n",
    "                #print(lst[elm])\n",
    "                #print(count)\n",
    "                maxcount = count\n",
    "        else:\n",
    "            prev = lst[elm]\n",
    "            count = 1\n",
    "    return maxcount\n",
    "\n",
    "lst = [1,1,1,1,1,1, 2, 2, 3,3,4, 4, 4, 4,3,3,3,3,3]\n",
    "print(maxBunchcount(lst))"
   ]
  },
  {
   "cell_type": "code",
   "execution_count": 11,
   "id": "2f7ee23a",
   "metadata": {},
   "outputs": [
    {
     "name": "stdout",
     "output_type": "stream",
     "text": [
      "False\n"
     ]
    }
   ],
   "source": [
    "#Task 10\n",
    "def repetition(lst):\n",
    "    dic = {}\n",
    "    for elm in lst:\n",
    "        if elm not in dic.keys():\n",
    "            dic[elm] = 1\n",
    "        else:\n",
    "            dic[elm] += 1\n",
    "    lst = [0]*len(lst)\n",
    "    count = 0\n",
    "    for elm in dic.values():\n",
    "        for k in lst:\n",
    "            if elm >1 and elm == k:\n",
    "                return True\n",
    "        #print(count)\n",
    "        lst[count] = elm\n",
    "        count += 1\n",
    "    return False\n",
    "\n",
    "\n",
    "lst = [3,4,6,3,4,7,4,6,8,6,6]\n",
    "print((repetition(lst)))"
   ]
  },
  {
   "cell_type": "code",
   "execution_count": null,
   "id": "f13d77f7",
   "metadata": {},
   "outputs": [],
   "source": []
  }
 ],
 "metadata": {
  "kernelspec": {
   "display_name": "Python 3 (ipykernel)",
   "language": "python",
   "name": "python3"
  },
  "language_info": {
   "codemirror_mode": {
    "name": "ipython",
    "version": 3
   },
   "file_extension": ".py",
   "mimetype": "text/x-python",
   "name": "python",
   "nbconvert_exporter": "python",
   "pygments_lexer": "ipython3",
   "version": "3.9.12"
  }
 },
 "nbformat": 4,
 "nbformat_minor": 5
}
