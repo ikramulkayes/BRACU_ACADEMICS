{
 "cells": [
  {
   "cell_type": "markdown",
   "metadata": {
    "id": "ix8UYABygxwV"
   },
   "source": [
    "Make sure you remove `raise NotImplementedError()` and fill in any place that says `# YOUR CODE HERE`, as well as your `NAME`, `ID`, and `LAB_SECTION` below:"
   ]
  },
  {
   "cell_type": "code",
   "execution_count": 1,
   "metadata": {
    "id": "yRMG6NyDgxwa"
   },
   "outputs": [],
   "source": [
    "NAME = \"MD Ikramul Kayes\"\n",
    "ID = \"21301576\"\n",
    "SECTION = \"08\""
   ]
  },
  {
   "cell_type": "markdown",
   "metadata": {
    "id": "YO3vu3cQgxwc"
   },
   "source": [
    "---"
   ]
  },
  {
   "cell_type": "markdown",
   "metadata": {
    "deletable": false,
    "editable": false,
    "id": "6D4EuqaHgxwc",
    "nbgrader": {
     "cell_type": "markdown",
     "checksum": "a1a4b82e1290e7fe207981d775116189",
     "grade": false,
     "grade_id": "part1_intro",
     "locked": true,
     "schema_version": 3,
     "solution": false,
     "task": false
    }
   },
   "source": [
    "# Part 1: Representing a Polynomial\n",
    "\n",
    "Polynomials are function of the following format\n",
    "\n",
    "$$p(x) = a_0 + a_1 x ^ 1 + a_2 x ^ 2 + ... + a_n x ^ n,$$\n",
    "\n",
    "where, $[a_0, a_1, \\cdots a_n]$ are called coefficients and $n$ (called the degree or order) is a non-negative integer.\n",
    "\n",
    "\n",
    "This can also be written as:\n",
    "\n",
    "$$y = f(x) = a_0 x^0 + a_1 x ^ 1 + a_2 x ^ 2 + ... + a_n x ^ n.$$\n",
    "\n",
    "**Example**\n",
    "$$ y = 1 + 2x^2 + 5x^4 $$ is a polynomial of order 4 ($ = n$) with $n+1$ coeffecients $a_0 = 1, a_1 = 0, a_2 = 2, a_3 = 0, a_4 = 5$"
   ]
  },
  {
   "cell_type": "markdown",
   "metadata": {
    "deletable": false,
    "editable": false,
    "id": "uUKAl1BBgxwd",
    "nbgrader": {
     "cell_type": "markdown",
     "checksum": "4768b3ef2708eeb7d4e7834f6871c77b",
     "grade": false,
     "grade_id": "header_list",
     "locked": true,
     "schema_version": 3,
     "solution": false,
     "task": false
    }
   },
   "source": [
    "**Method 1**: Using List\n",
    "\n",
    "---"
   ]
  },
  {
   "cell_type": "code",
   "execution_count": 2,
   "metadata": {
    "deletable": false,
    "editable": false,
    "id": "6TTFQ7HEgxwd",
    "nbgrader": {
     "cell_type": "code",
     "checksum": "a5e0eb4e8aa8fa601c4d5b1f8bb7518a",
     "grade": false,
     "grade_id": "import",
     "locked": true,
     "schema_version": 3,
     "solution": false,
     "task": false
    }
   },
   "outputs": [],
   "source": [
    "import matplotlib.pyplot as plt\n",
    "import numpy as np\n",
    "\n",
    "\n",
    "# numpy is used for efficient array (vector or matrix) operations\n",
    "# pyplot is used for plotting \n",
    "# Must read: [https://www.tutorialspoint.com/numpy/numpy_matplotlib.htm]"
   ]
  },
  {
   "cell_type": "code",
   "execution_count": 3,
   "metadata": {
    "colab": {
     "base_uri": "https://localhost:8080/"
    },
    "deletable": false,
    "editable": false,
    "id": "GkHghXVjgxwe",
    "nbgrader": {
     "cell_type": "code",
     "checksum": "a8ec21a0babc1a6a8e9ce264a80fb7a9",
     "grade": false,
     "grade_id": "poly_list",
     "locked": true,
     "schema_version": 3,
     "solution": false,
     "task": false
    },
    "outputId": "fa20ebad-4355-4ce8-f7f6-8de99221f882"
   },
   "outputs": [
    {
     "name": "stdout",
     "output_type": "stream",
     "text": [
      "3176.0\n",
      "775.8125\n",
      "[8.0, 89.0, 424.0, 1313.0, 3176.0]\n"
     ]
    }
   ],
   "source": [
    "arr = [1, 0, 2, 0, 5] # coeffecients of the polynomial\n",
    "n = len(arr) - 1 # degree. Remember: number of coeff = degree + 1\n",
    "\n",
    "'''\n",
    "For a single value of x, finding p(x)\n",
    "\n",
    "Note that this is an example of block comment in python. A block comment \n",
    "starts with three ' and ends with three '.\n",
    "'''\n",
    "\n",
    "x = 5.0\n",
    "p_x = 0.0\n",
    "\n",
    "#Your code HERE\n",
    "\n",
    "for elm in range(n+1):\n",
    "  p_x += arr[elm] *(x**elm)\n",
    "print(p_x)\n",
    "\n",
    "#task1.2\n",
    "arr = [1, 0, 2, 0, 5]\n",
    "x = 3.5\n",
    "p_x = 0\n",
    "for elm in range(n+1):\n",
    "  p_x += arr[elm] *(x**elm)\n",
    "print(p_x)\n",
    "\n",
    "\n",
    "x_arr = [1.0, 2.0, 3.0, 4.0, 5.0]\n",
    "p_x_arr = []\n",
    "#Your code HERE\n",
    "p_x = 0\n",
    "for selm in x_arr:\n",
    "  for elm in range(n+1):\n",
    "    p_x += arr[elm] *(selm**elm)\n",
    "  p_x_arr.append(p_x)\n",
    "  p_x = 0\n",
    "print(p_x_arr)\n"
   ]
  },
  {
   "cell_type": "code",
   "execution_count": 4,
   "metadata": {
    "id": "U3PYGd0VZHcV"
   },
   "outputs": [],
   "source": [
    " #"
   ]
  },
  {
   "cell_type": "markdown",
   "metadata": {
    "deletable": false,
    "editable": false,
    "id": "0-q5-L16gxwg",
    "nbgrader": {
     "cell_type": "markdown",
     "checksum": "ebd48410397a242a7c85eae3bef2090e",
     "grade": false,
     "grade_id": "header_class",
     "locked": true,
     "schema_version": 3,
     "solution": false,
     "task": false
    }
   },
   "source": [
    "**Method 2 (Better)**: Using a Class\n",
    "\n",
    "---\n",
    "Complete the implementation of the polynomial class as showed in the lecture"
   ]
  },
  {
   "cell_type": "code",
   "execution_count": 5,
   "metadata": {
    "deletable": false,
    "id": "cz0rAEdUgxwg",
    "nbgrader": {
     "cell_type": "code",
     "checksum": "8bc8bdbd42af74922557a6c7c1004dc3",
     "grade": false,
     "grade_id": "part01_ans",
     "locked": false,
     "schema_version": 3,
     "solution": true,
     "task": false
    }
   },
   "outputs": [],
   "source": [
    "'''\n",
    "Lab task 1\n",
    "Here we implement a Polynomial class with three methods: the constructor\n",
    "__init__(), the toString method __repr__(), and a method to make the objects\n",
    "of the class callable, __call__() method\n",
    "'''\n",
    "\n",
    "# Polynomial Class\n",
    "\n",
    "class Polynomial:\n",
    "  # Constructor, note that it starts and ends with two underscores\n",
    "  def __init__(self, coeff):\n",
    "    '''\n",
    "    Every internal variable of the object must be saved and initialized\n",
    "    in this method: self.variable = value\n",
    "    '''\n",
    "    self.coeff = coeff  \n",
    "    self.degree = len(coeff) - 1\n",
    "\n",
    "  # Constructor to make the object callable \n",
    "  def __call__(self, x_arr):\n",
    "    '''\n",
    "    Here we assumed x_arr is a numpy array. Remember that a numpy array acts \n",
    "    like a vector (1D matrix). So an operation x + 1 would add 1 to each element\n",
    "    of the matrix (unlike python's defaule list). Simlarly, x ** 2 would return\n",
    "    element wise square of the array. \n",
    "\n",
    "    Hence, this method would return an array, where the i'th element is the \n",
    "    (polynomial) interpolated value of x[i], given the coeffecients a[i].\n",
    "    '''\n",
    "    p_x_arr = 0\n",
    "    # --------------------------------------------\n",
    "    # HINT: Should look like\n",
    "    # for i in range(self.degree + 1):\n",
    "    #     ????\n",
    "    # --------------------------------------------\n",
    "    \n",
    "    for elm in range(self.degree+1):\n",
    "      p_x_arr += self.coeff[elm]*(x_arr**elm)\n",
    "    return p_x_arr \n",
    "    # remember 1: length = degree + 1 for a polynomial\n",
    "    # remember 2: range(0, a) is same as range(a)\n",
    "    # remember 3: range(a, b) means a is inclusive, b is exclusive\n",
    "    \n",
    "    # --------------------------------------------\n",
    "    # YOUR CODE HERE\n",
    "\n",
    "    \n",
    "    # --------------------------------------------\n",
    "\n",
    "  # String representation method of the object (similar to toString() of java)\n",
    "  def __repr__(self):\n",
    "    # remember: a formatted string must start with f.\n",
    "  \n",
    "    str_ret = f'Polynomial of degree {self.degree}\\np(x) = '\n",
    "    for i in range(self.degree + 1):\n",
    "        a_val = self.coeff[i]\n",
    "        if i != 0:\n",
    "            if a_val >= 0:\n",
    "                str_ret += f'+ {a_val}x^{i} '\n",
    "            else:\n",
    "                str_ret += f'- {-a_val}x^{i} '\n",
    "        else:\n",
    "            str_ret += f'{a_val}x^{i} '\n",
    "            \n",
    "    return str_ret\n",
    "\n",
    "  # custom method 1: to get the degree of the polynomial\n",
    "  def get_degree(self):\n",
    "    # --------------------------------------------\n",
    "    # YOUR CODE HERE\n",
    "    degree = self.degree\n",
    "    # --------------------------------------------\n",
    "\n",
    "  # custom method 2: to get the coefficients of the polynomial\n",
    "  def get_coeffs(self):\n",
    "    # --------------------------------------------\n",
    "    # YOUR CODE HERE\n",
    "    coeff = self.coeff\n",
    "    # --------------------------------------------"
   ]
  },
  {
   "cell_type": "code",
   "execution_count": 6,
   "metadata": {
    "colab": {
     "base_uri": "https://localhost:8080/"
    },
    "deletable": false,
    "editable": false,
    "id": "jnHrzHXygxwi",
    "nbgrader": {
     "cell_type": "code",
     "checksum": "a7f2fe5f2eedf93d2e3a5ce5ba099e5b",
     "grade": true,
     "grade_id": "part01_test",
     "locked": true,
     "points": 10,
     "schema_version": 3,
     "solution": false,
     "task": false
    },
    "outputId": "743df259-c9ae-4699-9792-0cc5d3f82490"
   },
   "outputs": [
    {
     "name": "stdout",
     "output_type": "stream",
     "text": [
      "[   8.   89.  424. 1313. 3176.]\n"
     ]
    }
   ],
   "source": [
    "# test cases for your answer\n",
    "x_arr = np.array([1, 2, 3, 4, 5])\n",
    "\n",
    "coeff = np.array([1.0, 0.0, 2.0, 0.0, 5.0])\n",
    "p = Polynomial(coeff)\n",
    "\n",
    "results = [8, 89, 424, 1313, 3176]\n",
    "test = p(x_arr)\n",
    "print(test)\n",
    "\n",
    "np.testing.assert_array_equal(results, test)"
   ]
  },
  {
   "cell_type": "code",
   "execution_count": 7,
   "metadata": {
    "colab": {
     "base_uri": "https://localhost:8080/"
    },
    "id": "1PmZq9hz7-hF",
    "outputId": "6362646f-efd4-4667-a765-a5895777fc29"
   },
   "outputs": [
    {
     "name": "stdout",
     "output_type": "stream",
     "text": [
      "[1, 2, 3, 1, 2, 3, 1, 2, 3]\n"
     ]
    }
   ],
   "source": [
    "arr = [1,2,3]\n",
    "print(arr * 3)"
   ]
  },
  {
   "cell_type": "code",
   "execution_count": 8,
   "metadata": {
    "colab": {
     "base_uri": "https://localhost:8080/"
    },
    "deletable": false,
    "editable": false,
    "id": "UgcNqaKFgxwi",
    "nbgrader": {
     "cell_type": "code",
     "checksum": "09a4a08e433abc426afdb8aa66175a41",
     "grade": false,
     "grade_id": "sample_output",
     "locked": true,
     "schema_version": 3,
     "solution": false,
     "task": false
    },
    "outputId": "aa14d881-6bdb-45a7-da64-0eb09ee04a0b"
   },
   "outputs": [
    {
     "name": "stdout",
     "output_type": "stream",
     "text": [
      "Polynomial of degree 4\n",
      "p(x) = 1.0x^0 + 0.0x^1 + 2.0x^2 + 0.0x^3 + 5.0x^4 \n",
      "\n",
      "p([1 2 3 4 5]) = [   8.   89.  424. 1313. 3176.]\n"
     ]
    }
   ],
   "source": [
    "# an example to see if our implementation works\n",
    "coeff = np.array([1.0, 0.0, 2.0, 0.0, 5.0])\n",
    "p = Polynomial(coeff)\n",
    "print(p)  # check if printable\n",
    "x_arr = np.array([1, 2, 3, 4, 5])\n",
    "print()\n",
    "print(f\"p({x_arr}) =\", p(x_arr)) # check if the object is callable\n",
    "# should print p([1 2 3 4 5]) =  [   8.   89.  424. 1313. 3176.]"
   ]
  },
  {
   "cell_type": "markdown",
   "metadata": {
    "id": "vuYkYozxgxwi"
   },
   "source": [
    "# Part 2: Polynomial Interpolation (Matrix Method)\n",
    "\n",
    "If we have  $n+1$ nodes, that is,  $\\{(x_0, y_0), (x_1, y_1), (x_2, y_2), (x_{n}, y_{n})\\}$ that satisfies a polynomial of order $n$, it can be written as:\n",
    "\n",
    "\\begin{align}\n",
    "&a_0 + a_1  x_0 + a_2  x_0^2 + \\cdots a_n  + x_0^n = y_0\\\\\n",
    "&a_0 + a_1  x_1 + a_2  x_1^2 + \\cdots a_n  + x_1^n = y_1\\\\\n",
    "&a_0 + a_1  x_2 + a_2  x_2^2 + \\cdots a_n  + x_2^n = y_2\\\\\n",
    "&\\cdots\\\\\n",
    "&a_0 + a_1  x_{n-1} + a_2  x_{n}^2 + \\cdots + a_n  x_{n}^n = y_{n}\\\\\n",
    "\\end{align}\n",
    "\n",
    "Here, $p(x) = a_0 + a_1x^1 + a_2x^2 + \\cdots a_nx^n$ is called the fitted polynomial of the given data points (nodes). Using this polynomial to find the $y_k$ corresponding to an $x_k$ with the range of the given nodes is called polynomial interpolation.\n",
    "\n",
    "In matrix form, the equations can be written as  $$\\mathbf{Xa = y},$$\n",
    "\n",
    "where $\\mathbf{X} = $\n",
    "\n",
    "\\begin{bmatrix}\n",
    "x_0^0 & x_0^1 & x_0^2 & \\cdots & x_0^n\\\\\n",
    "x_1^0 & x_1^1 & x_1^2 & \\cdots & x_1^n\\\\\n",
    "\\vdots & \\vdots & \\vdots & \\ddots & \\vdots\\\\\n",
    "x_n^0 & x_{n}^1 & x_n^2 & \\cdots & x_n^n\\\\\n",
    "\\end{bmatrix}\n",
    "\n",
    "$\\mathbf{a} = $\n",
    "\\begin{bmatrix}\n",
    "a_0\\\\\n",
    "a_1\\\\\n",
    "\\vdots\\\\\n",
    "a_n\n",
    "\\end{bmatrix}\n",
    "\n",
    "and $\\mathbf{y} = $\n",
    "\\begin{bmatrix}\n",
    "y_0\\\\\n",
    "y_1\\\\\n",
    "\\vdots\\\\\n",
    "y_n\n",
    "\\end{bmatrix}\n",
    "\n",
    "From this, we can solve for $\\mathbf{a}$ using\n",
    "$$\\mathbf{a = X^{-1}y}.$$\n",
    "\n"
   ]
  },
  {
   "cell_type": "code",
   "execution_count": 9,
   "metadata": {
    "deletable": false,
    "id": "mgS2AYrxgxwj",
    "nbgrader": {
     "cell_type": "code",
     "checksum": "51d07e5c4f10a9f3567c856d29392422",
     "grade": false,
     "grade_id": "task02_ans",
     "locked": false,
     "schema_version": 3,
     "solution": true,
     "task": false
    }
   },
   "outputs": [],
   "source": [
    "'''\n",
    "Lab task 2\n",
    "Here we implement a function which takes a discrete x and y array, and returns\n",
    "a Polynomial object (the one we just implemented). This polynomial object can \n",
    "be used to calculate y for any other value of x (not in that list) within the\n",
    "range\n",
    "'''\n",
    "def get_poly(data_x, data_y):\n",
    "    n_nodes = len(data_x)\n",
    "    # np.zeors((a, b)) returns a (a x b) matrix, i.e., a rows and b columns \n",
    "    X = np.zeros((n_nodes, n_nodes))\n",
    "  \n",
    "    # Populate the X matrix with appropriate values\n",
    "    # YOUR CODE HERE\n",
    "    \n",
    "    for i in range(n_nodes):\n",
    "      for j in range(n_nodes):\n",
    "        X[i][j] = data_x[i]**j\n",
    "        \n",
    "    \n",
    "    \n",
    " \n",
    "    print(X)\n",
    "    # --------------------------------------------\n",
    "    # np.linalg.inv is used to find the inverse\n",
    "    # but pinv is more efficient\n",
    "    X_inv = np.linalg.pinv(X) # pseudo inverse\n",
    "    a = np.dot(X_inv, data_y)\n",
    "    p = Polynomial(a)\n",
    "\n",
    "    return p"
   ]
  },
  {
   "cell_type": "code",
   "execution_count": 10,
   "metadata": {
    "colab": {
     "base_uri": "https://localhost:8080/"
    },
    "deletable": false,
    "editable": false,
    "id": "Jq7J4X7kgxwj",
    "nbgrader": {
     "cell_type": "code",
     "checksum": "dbd631bf10d397f213423b5fd70a82d7",
     "grade": true,
     "grade_id": "task02_test",
     "locked": true,
     "points": 10,
     "schema_version": 3,
     "solution": false,
     "task": false
    },
    "outputId": "a0962d6c-a114-4202-8187-d12d4a3f8022"
   },
   "outputs": [
    {
     "name": "stdout",
     "output_type": "stream",
     "text": [
      "[[   1.   -3.    9.  -27.   81. -243.]\n",
      " [   1.   -2.    4.   -8.   16.  -32.]\n",
      " [   1.   -1.    1.   -1.    1.   -1.]\n",
      " [   1.    0.    0.    0.    0.    0.]\n",
      " [   1.    1.    1.    1.    1.    1.]\n",
      " [   1.    3.    9.   27.   81.  243.]]\n"
     ]
    }
   ],
   "source": [
    "# test cases for your answer\n",
    "data_x = np.array([-3., -2., -1., 0., 1., 3.])\n",
    "data_y = np.array([-80., -13., 6., 1., 5., 16.])\n",
    "p = get_poly(data_x, data_y)\n",
    "\n",
    "results = np.array([-80, -74.60997689, -69.36169492, -64.26436346, -59.32622134,\n",
    "                   -54.55456417, -49.95577177, -45.53533558, -41.297886, -37.24721982,\n",
    "                   -33.38632762, -29.71742112, -26.24196062, -22.96068235, -19.87362589,\n",
    "                   -16.98016156, -14.2790178, -11.76830857,  -9.44556072,  -7.30774144,\n",
    "                   -5.35128559, -3.57212312, -1.96570645, -0.52703788, 0.74930302,\n",
    "                   1.86913203, 2.83863291, 3.66432993, 4.35306058, 4.9119481,\n",
    "                   5.34837412, 5.66995126, 5.88449574, 6, 6.02460529,\n",
    "                   5.96657428, 5.83426368, 5.63609684, 5.38053634, 5.07605665,\n",
    "                   4.73111668, 4.35413242, 3.95344953, 3.53731597, 3.1138546,\n",
    "                   2.69103576, 2.27664993, 1.87828029, 1.50327536, 1.15872159,\n",
    "                   0.85141596, 0.58783863, 0.3741255, 0.21604084, 0.1189499,\n",
    "                   0.0877915, 0.12705066, 0.2407312, 0.43232834, 0.70480134,\n",
    "                   1.06054604, 1.50136754, 2.02845277, 2.64234311, 3.34290699,\n",
    "                   4.1293125, 5, 5.95265474, 6.98417944, 8.09066693,\n",
    "                   9.26737272, 10.50868766, 11.80811047, 13.15822045, 14.55065,\n",
    "                   15.97605727, 17.42409876, 18.88340192, 20.34153777, 21.78499351,\n",
    "                   23.19914511, 24.56822994, 25.87531935, 27.1022913, 28.22980298,\n",
    "                   29.23726338, 30.10280593, 30.80326108, 31.31412894, 31.60955188,\n",
    "                   31.6622871, 31.4436793, 30.92363323, 30.07058634, 28.85148136,\n",
    "                   27.23173894, 25.17523021, 22.64424943, 19.59948659, 16])\n",
    "\n",
    "x_arr = np.linspace(-3, 3, 100)\n",
    "test = p(x_arr)\n",
    "\n",
    "np.testing.assert_array_almost_equal(test, results)"
   ]
  },
  {
   "cell_type": "code",
   "execution_count": 11,
   "metadata": {
    "colab": {
     "base_uri": "https://localhost:8080/",
     "height": 383
    },
    "deletable": false,
    "editable": false,
    "id": "iCGAl18agxwk",
    "nbgrader": {
     "cell_type": "code",
     "checksum": "277c42ed406022472573b16fb698714a",
     "grade": false,
     "grade_id": "plot",
     "locked": true,
     "schema_version": 3,
     "solution": false,
     "task": false
    },
    "outputId": "d4261ad1-9384-4a1a-e80a-676ee77fc3ba"
   },
   "outputs": [
    {
     "name": "stdout",
     "output_type": "stream",
     "text": [
      "[[   1.   -3.    9.  -27.   81. -243.]\n",
      " [   1.   -2.    4.   -8.   16.  -32.]\n",
      " [   1.   -1.    1.   -1.    1.   -1.]\n",
      " [   1.    0.    0.    0.    0.    0.]\n",
      " [   1.    1.    1.    1.    1.    1.]\n",
      " [   1.    3.    9.   27.   81.  243.]]\n"
     ]
    },
    {
     "data": {
      "image/png": "[encoded data removed]",
      "text/plain": [
       "<Figure size 432x288 with 1 Axes>"
      ]
     },
     "metadata": {
      "needs_background": "light"
     },
     "output_type": "display_data"
    }
   ],
   "source": [
    "data_x = np.array([-3., -2., -1., 0., 1., 3.])\n",
    "data_y = np.array([-80., -13., 6., 1., 5., 16.])\n",
    "p = get_poly(data_x, data_y)\n",
    "'''\n",
    "np.linspace(a, b, n) returns a numpy array of n points equally \n",
    "spaced from a to b\n",
    "'''\n",
    "x_arr = np.linspace(-3, 3, 100)\n",
    "# interpolated values\n",
    "y_interp = p(x_arr)\n",
    "#print(y_interp)\n",
    "\n",
    "# pyplot is used for plotting \n",
    "# Must read: [https://www.tutorialspoint.com/numpy/numpy_matplotlib.htm]\n",
    "\n",
    "plt.plot(x_arr, y_interp, 'y')\n",
    "plt.plot(data_x, data_y, 'go')\n",
    "plt.xlabel('x - axis')\n",
    "plt.ylabel('y - axis')\n",
    "    \n",
    "\n",
    "plt.show()"
   ]
  },
  {
   "cell_type": "code",
   "execution_count": null,
   "metadata": {
    "id": "J1grP3T298Zx"
   },
   "outputs": [],
   "source": []
  },
  {
   "cell_type": "code",
   "execution_count": null,
   "metadata": {
    "id": "hJXjy663gxwk"
   },
   "outputs": [],
   "source": []
  }
 ],
 "metadata": {
  "colab": {
   "collapsed_sections": [],
   "provenance": []
  },
  "kernelspec": {
   "display_name": "Python 3 (ipykernel)",
   "language": "python",
   "name": "python3"
  },
  "language_info": {
   "codemirror_mode": {
    "name": "ipython",
    "version": 3
   },
   "file_extension": ".py",
   "mimetype": "text/x-python",
   "name": "python",
   "nbconvert_exporter": "python",
   "pygments_lexer": "ipython3",
   "version": "3.9.12"
  },
  "vscode": {
   "interpreter": {
    "hash": "6a1970aa0fd86ee3aa4a1e595377c7af0852664db2cafd85f44f5ab3a370f9b8"
   }
  }
 },
 "nbformat": 4,
 "nbformat_minor": 1
}
