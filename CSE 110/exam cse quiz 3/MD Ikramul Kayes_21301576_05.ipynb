{
 "cells": [
  {
   "cell_type": "code",
   "execution_count": null,
   "metadata": {},
   "outputs": [],
   "source": [
    "lst = input(\"Enter a sentence: \")\n",
    "lst = lst.split(\",\")\n",
    "vlst = [\"a\", \"e\", \"i\", \"o\", \"u\"]\n",
    "vsum = 0\n",
    "csum = 0\n",
    "count = 1\n",
    "final = {}\n",
    "for word in lst:\n",
    "    for elm in word:\n",
    "        elm = elm.lower()\n",
    "        if elm in vlst:\n",
    "            vsum += 1\n",
    "        elif elm == \" \":\n",
    "            continue\n",
    "        elif elm.isalpha():\n",
    "            csum += 1    \n",
    "    final[count] = (vsum,csum)\n",
    "    count += 1\n",
    "    vsum = 0\n",
    "    csum = 0\n",
    "print(final)"
   ]
  },
  {
   "cell_type": "code",
   "execution_count": null,
   "metadata": {},
   "outputs": [],
   "source": []
  },
  {
   "cell_type": "code",
   "execution_count": null,
   "metadata": {},
   "outputs": [],
   "source": []
  }
 ],
 "metadata": {
  "kernelspec": {
   "display_name": "Python 3",
   "language": "python",
   "name": "python3"
  },
  "language_info": {
   "codemirror_mode": {
    "name": "ipython",
    "version": 3
   },
   "file_extension": ".py",
   "mimetype": "text/x-python",
   "name": "python",
   "nbconvert_exporter": "python",
   "pygments_lexer": "ipython3",
   "version": "3.7.6"
  }
 },
 "nbformat": 4,
 "nbformat_minor": 4
}
