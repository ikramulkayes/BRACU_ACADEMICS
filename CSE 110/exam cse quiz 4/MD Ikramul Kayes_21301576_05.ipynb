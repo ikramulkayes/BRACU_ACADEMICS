{
 "cells": [
  {
   "cell_type": "code",
   "execution_count": 3,
   "metadata": {},
   "outputs": [
    {
     "name": "stdout",
     "output_type": "stream",
     "text": [
      "kdaleay\n",
      "b\n",
      "yayapple\n"
     ]
    }
   ],
   "source": [
    "def last_vowel(word):\n",
    "    vlst = (\"a\", \"e\", \"i\", \"o\", \"u\")\n",
    "    final = \"\"\n",
    "    if len(word) <2:\n",
    "        return word\n",
    "    elif word[-1] in vlst:\n",
    "        final = \"yay\" + word\n",
    "        return final\n",
    "    else:\n",
    "        count = 0\n",
    "        lim = len(word) -1\n",
    "        final = word[-1]\n",
    "        for elm in word:\n",
    "            if count != lim:\n",
    "               final += elm\n",
    "            else:\n",
    "                final += \"ay\"\n",
    "            count += 1 \n",
    "        return final\n",
    "print(last_vowel(\"dalek\"))\n",
    "print(last_vowel(\"b\"))\n",
    "print(last_vowel(\"apple\"))"
   ]
  },
  {
   "cell_type": "code",
   "execution_count": null,
   "metadata": {},
   "outputs": [],
   "source": []
  }
 ],
 "metadata": {
  "kernelspec": {
   "display_name": "Python 3",
   "language": "python",
   "name": "python3"
  },
  "language_info": {
   "codemirror_mode": {
    "name": "ipython",
    "version": 3
   },
   "file_extension": ".py",
   "mimetype": "text/x-python",
   "name": "python",
   "nbconvert_exporter": "python",
   "pygments_lexer": "ipython3",
   "version": "3.7.6"
  }
 },
 "nbformat": 4,
 "nbformat_minor": 4
}
