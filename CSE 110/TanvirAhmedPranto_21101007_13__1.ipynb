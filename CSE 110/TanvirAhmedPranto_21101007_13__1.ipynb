{
 "cells": [
  {
   "cell_type": "code",
   "execution_count": 1,
   "metadata": {},
   "outputs": [
    {
     "name": "stdout",
     "output_type": "stream",
     "text": [
      "Enter number of elements:7\n",
      "Enter element:2\n",
      "Enter element:3\n",
      "Enter element:4\n",
      "Enter element:5\n",
      "Enter element:6\n",
      "Enter element:7\n",
      "Enter element:8\n",
      "Enter number of elements:4\n",
      "Enter element:9\n",
      "Enter element:10\n",
      "Enter element:15\n",
      "Enter element:14\n",
      "Initial merged list is: [2, 3, 4, 5, 6, 7, 8, 9, 10, 15, 14]\n",
      "Updated List: [2, 3, 4, 5, 6, 8, 9, 10, 15, 14]\n"
     ]
    }
   ],
   "source": [
    "a=[]\n",
    "c=[]\n",
    "n1=int(input(\"Enter number of elements:\"))\n",
    "for i in range(1,n1+1):\n",
    "    b=int(input(\"Enter element:\"))\n",
    "    a.append(b)\n",
    "    p=len(a)\n",
    "n2=int(input(\"Enter number of elements:\"))\n",
    "for i in range(1,n2+1):\n",
    "    d=int(input(\"Enter element:\"))\n",
    "    c.append(d)\n",
    "    q=len(c)\n",
    "if p>q:\n",
    "  new=a+c\n",
    "  x=len(new)\n",
    "  print(\"Initial merged list is:\",new)\n",
    "else: \n",
    "  print(\"List 1 is not greater than List 2\")\n",
    "\n",
    "if x%2==0:\n",
    "  index = int(x/2) \n",
    "  up = new[:index-1] + new[index+1 :]\n",
    "  print (\"Updated List:\",up)\n",
    "else:\n",
    "  index = int(x/2) \n",
    "  up = new[:index] + new[index+1 :]\n",
    "  print (\"Updated List:\",up)"
   ]
  },
  {
   "cell_type": "code",
   "execution_count": 1,
   "metadata": {},
   "outputs": [
    {
     "name": "stdout",
     "output_type": "stream",
     "text": [
      "Enter a string: 2 5 8 4\n",
      "Enter a word: Strawberry\n",
      "Enter a word: Milk\n",
      "Enter a word: Banana\n",
      "Input list: ['2', '5', '8', '4']\n",
      "Even list:  [2, 8, 4]\n",
      "Length of even list: 3\n",
      "Dictionary:  {'Strawberry': 2, 'Milk': 8, 'Banana': 4}\n",
      "\n"
     ]
    }
   ],
   "source": [
    "lst = input(\"Enter a string: \")\n",
    "lst = lst.split(\" \")\n",
    "nlst = []\n",
    "slst = []\n",
    "dic = {}\n",
    "\n",
    "for i in lst:\n",
    "    i = int(i)\n",
    "    if i % 2 == 0:\n",
    "        nlst.append(i)\n",
    "k = max(nlst)\n",
    "jj = \"\"\n",
    "for i in range(len(nlst)):\n",
    "    k = input(\"Enter a word: \")\n",
    "    dic[k] = nlst[i]\n",
    "    if nlst[i] == k:\n",
    "        jj = k\n",
    "print(\"Input list:\",lst)\n",
    "print(\"Even list: \",nlst)\n",
    "print(\"Length of even list:\",len(nlst))\n",
    "print(\"Dictionary: \",dic)\n",
    "print(jj)"
   ]
  },
  {
   "cell_type": "code",
   "execution_count": 2,
   "metadata": {},
   "outputs": [
    {
     "name": "stdout",
     "output_type": "stream",
     "text": [
      "Sorted list:  [5, 10, 15, 30, 50, 90]\n",
      "Criteria pass:  [5, 10, 15, 30, 50]\n",
      "22.0\n"
     ]
    }
   ],
   "source": [
    "def average_calc(input1):\n",
    "    input1=input1.split(\",\")\n",
    "    list1=[]\n",
    "    lst_1=[]\n",
    "    total_count=0\n",
    "    sum=0\n",
    "    average=0\n",
    "    output_lst=[]\n",
    "    final_lst=[]\n",
    "    for i in input1:\n",
    "        i=int(i)\n",
    "        list1.append(i)\n",
    "    list1.sort()\n",
    "    print(\"Sorted list: \",list1)\n",
    "    for i in range(len(list1)-1):\n",
    "        total_count=list1[i+1]-list1[i]\n",
    "        if total_count<=20:\n",
    "            output_lst.append(list1[i])\n",
    "    for i in list1:\n",
    "        if i==list1[-2]:\n",
    "            lst_1.append(i)\n",
    "\n",
    "    final_lst=output_lst+lst_1\n",
    "    print(\"Criteria pass: \",final_lst)\n",
    "    for i in final_lst:\n",
    "        sum+=i\n",
    "    average=sum/len(final_lst)\n",
    "    print(average)\n",
    "\n",
    "average_calc(\"90, 50, 30, 15, 10, 5\")\n"
   ]
  },
  {
   "cell_type": "code",
   "execution_count": null,
   "metadata": {},
   "outputs": [],
   "source": []
  }
 ],
 "metadata": {
  "kernelspec": {
   "display_name": "Python 3",
   "language": "python",
   "name": "python3"
  },
  "language_info": {
   "codemirror_mode": {
    "name": "ipython",
    "version": 3
   },
   "file_extension": ".py",
   "mimetype": "text/x-python",
   "name": "python",
   "nbconvert_exporter": "python",
   "pygments_lexer": "ipython3",
   "version": "3.7.6"
  }
 },
 "nbformat": 4,
 "nbformat_minor": 5
}
