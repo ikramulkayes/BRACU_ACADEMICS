{
 "cells": [
  {
   "cell_type": "code",
   "execution_count": 11,
   "metadata": {},
   "outputs": [
    {
     "name": "stdout",
     "output_type": "stream",
     "text": [
      "Enter the charecter's name: Jesse\n",
      "Jesse played the character Sheldon in BBT\n"
     ]
    }
   ],
   "source": [
    "# This is answer to the question 1\n",
    "cast = {'Friends': [('Joey', 'Matt'), ('Chandler', 'Matthew')],\n",
    "         'BBT': [('Penny', 'Kaley'), ('Sheldon', 'Jim')],\n",
    "         'Breaking Bad': [('Jesse', 'Aaron'), ('Walter', 'Bryan')]}\n",
    "val_0=input(\"Enter the charecter's name: \")\n",
    "for key_0 in cast.keys():\n",
    "   for elm in cast[key_0]:\n",
    "       if elm[1]==val_0:\n",
    "           val_1=elm[0]\n",
    "           val_2=key_0\n",
    "\n",
    "print(f\"{val_0} played the character {val_1} in {val_2}\")"
   ]
  },
  {
   "cell_type": "code",
   "execution_count": 6,
   "metadata": {},
   "outputs": [
    {
     "name": "stdout",
     "output_type": "stream",
     "text": [
      "Alice:You must have at least 2 subjects in A level.\n",
      "Based on the A level result Sam's minimum GPA is 4.5\n",
      "{'Sam': 4.5}\n"
     ]
    }
   ],
   "source": [
    "#This is answer to the question 2\n",
    "given_data = [[\"Alice\", [\"A\"]], [\"Sam\", [ \"A\", \"E\", \"B\"]]]\n",
    "dic = {}\n",
    "count = 0\n",
    "temp = \"\"\n",
    "sum1 = 0\n",
    "flag = True\n",
    "fdic = {}\n",
    "for elm in given_data:\n",
    "    dic[elm[0]] = elm[1]\n",
    "\n",
    "for key,value in dic.items():\n",
    "    value = sorted(value)\n",
    "    if len(value) == 1:\n",
    "        print(key+\":\"+\"You must have at least 2 subjects in A level.\")\n",
    "    else:\n",
    "        sum1 = 0\n",
    "        for elm2 in range(2):\n",
    "            val = value[elm2]\n",
    "            if val == \"A\":\n",
    "                sum1 += 5\n",
    "            elif val == \"B\":\n",
    "                sum1 += 4\n",
    "            elif val == \"C\":\n",
    "                sum1 += 3\n",
    "            elif val == \"D\":\n",
    "                sum1 += 2\n",
    "            else:\n",
    "                print(\"Sorry\",key,\"the grades allowed in your top 2 grades are only A/B/C/D\")\n",
    "                flag = False\n",
    "                break\n",
    "        if flag:\n",
    "            sum1 = sum1 /2\n",
    "            print(\"Based on the A level result\"+\" \"+key+\"'s \"+ \"minimum GPA is \"+str(sum1))\n",
    "            fdic[key] = sum1\n",
    "print(fdic)"
   ]
  },
  {
   "cell_type": "code",
   "execution_count": 2,
   "metadata": {},
   "outputs": [
    {
     "name": "stdout",
     "output_type": "stream",
     "text": [
      "Vt Vs MVT110 fVnVl\n",
      "IC iC CCE110 CiCaC\n"
     ]
    }
   ],
   "source": [
    "#This is answer to the question 3\n",
    "def replacer(str_0,str_1):\n",
    "    str_2 = \"\"\n",
    "    list_0 = ['a', 'e', 'i', 'o', 'u', 'A', 'E', 'I', 'O', 'U']\n",
    "\n",
    "    if str_1 == \"vowels\":\n",
    "        for elm in str_0:\n",
    "            if elm in list_0:\n",
    "                str_2 += \"V\"\n",
    "            else:\n",
    "                str_2 += elm\n",
    "    elif str_1 == \"consonants\":\n",
    "        for elm in str_0:\n",
    "            if elm.isalpha():\n",
    "                if elm not in list_0:\n",
    "                    str_2 += \"C\"\n",
    "                else:\n",
    "                    str_2 += elm\n",
    "            else:\n",
    "                str_2 += elm\n",
    "    return str_2\n",
    "\n",
    "print(replacer(\"It is MAT110 final\", \"vowels\"))\n",
    "print(replacer(\"It is CSE110 final\", \"consonants\"))"
   ]
  },
  {
   "cell_type": "code",
   "execution_count": null,
   "metadata": {},
   "outputs": [],
   "source": []
  }
 ],
 "metadata": {
  "kernelspec": {
   "display_name": "Python 3",
   "language": "python",
   "name": "python3"
  },
  "language_info": {
   "codemirror_mode": {
    "name": "ipython",
    "version": 3
   },
   "file_extension": ".py",
   "mimetype": "text/x-python",
   "name": "python",
   "nbconvert_exporter": "python",
   "pygments_lexer": "ipython3",
   "version": "3.7.6"
  }
 },
 "nbformat": 4,
 "nbformat_minor": 4
}
