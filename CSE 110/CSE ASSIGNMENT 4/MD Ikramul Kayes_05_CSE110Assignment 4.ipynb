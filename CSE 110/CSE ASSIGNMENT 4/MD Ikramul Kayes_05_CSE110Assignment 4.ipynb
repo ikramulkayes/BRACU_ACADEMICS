{
 "cells": [
  {
   "cell_type": "markdown",
   "metadata": {
    "id": "xDNsncrtU1yM"
   },
   "source": [
    "# CSE110 Lab Assignment 4\n",
    "\n",
    "This Assignment is to help you develop your concept of Lists in Python."
   ]
  },
  {
   "cell_type": "markdown",
   "metadata": {
    "id": "gh4GUDaIU1yO"
   },
   "source": [
    "\n",
    "\n",
    "\n",
    "\n",
    "\n",
    "\n",
    "##Write your name, student ID and CSE110 theory section number below:\n",
    "\n",
    "\n",
    "\n",
    "\n",
    "\n"
   ]
  },
  {
   "cell_type": "code",
   "execution_count": null,
   "metadata": {
    "id": "OAYfzLIqgqyE"
   },
   "outputs": [],
   "source": [
    "#STUDENT NAME:MD Ikramul Kayes\n",
    "#STUDENT ID:21301576\n",
    "#CSE110 THEORY SECTION: 05"
   ]
  },
  {
   "cell_type": "markdown",
   "metadata": {
    "id": "KD4EKJf6U1yQ"
   },
   "source": [
    "## Write the code in Python to do the following tasks:\n",
    "\n",
    "**<font color='red'>[MUST MAINTAIN VARIABLE NAMING CONVENTIONS FOR ALL THE TASKS]</font>**"
   ]
  },
  {
   "cell_type": "markdown",
   "metadata": {
    "id": "pbdeIVcyU1yi"
   },
   "source": [
    "### Task 1\n",
    "Write a Python program that reads 10 numbers from the user into a list. After reading each number, print all the numbers that have been entered so far in the list. \n",
    "\n",
    "**Example:**\\\n",
    "After the user enters 3, prints “Numbers in the list: [3]”\\\n",
    "After the user enters 5, prints “Numbers in the list: [3, 5]”\\\n",
    "After the user enters 34, prints “Numbers in the list: [3, 5, 34]”\\\n",
    ".... and so on"
   ]
  },
  {
   "cell_type": "code",
   "execution_count": 1,
   "metadata": {
    "id": "A5df9pmJU1yj"
   },
   "outputs": [
    {
     "name": "stdout",
     "output_type": "stream",
     "text": [
      "Enter a number: 1\n",
      "Numbers in the list: [1]\n",
      "Enter a number: 3\n",
      "Numbers in the list: [1, 3]\n",
      "Enter a number: 6\n",
      "Numbers in the list: [1, 3, 6]\n",
      "Enter a number: 6\n",
      "Numbers in the list: [1, 3, 6, 6]\n",
      "Enter a number: 6\n",
      "Numbers in the list: [1, 3, 6, 6, 6]\n",
      "Enter a number: 4\n",
      "Numbers in the list: [1, 3, 6, 6, 6, 4]\n",
      "Enter a number: 55\n",
      "Numbers in the list: [1, 3, 6, 6, 6, 4, 55]\n",
      "Enter a number: 6\n",
      "Numbers in the list: [1, 3, 6, 6, 6, 4, 55, 6]\n",
      "Enter a number: 8\n",
      "Numbers in the list: [1, 3, 6, 6, 6, 4, 55, 6, 8]\n",
      "Enter a number: 4\n",
      "Numbers in the list: [1, 3, 6, 6, 6, 4, 55, 6, 8, 4]\n"
     ]
    }
   ],
   "source": [
    "lst = []\n",
    "for ele in range(10):\n",
    "    word = int(input(\"Enter a number: \"))\n",
    "    lst.append(word)\n",
    "    print(\"Numbers in the list:\",lst)"
   ]
  },
  {
   "cell_type": "markdown",
   "metadata": {
    "id": "ZrjtT-I_U1zD"
   },
   "source": [
    "### Task 2\n",
    "\n",
    "Write a Python program that takes a list as an input from the user.Then creates a new list excluding the first and last two elements of the given list and prints the new list. If there are not enough elements in the list to do the task, the print \"Not possible\".\n",
    "\n",
    "**Note:** You may use list slicing.\n",
    "\n",
    "===================================================================\n",
    "\n",
    "**Sample Input 1:**<br/>\n",
    "[10, 20, 24, 25, 26, 35, 70]<br/>\n",
    "**Sample Output 1:**<br/>\n",
    "[24, 25, 26]<br/>\n",
    "\n",
    "===================================================================\n",
    "\n",
    "**Sample Input 2:**<br/>\n",
    "[10, 20, 24, 25, 26]<br/>\n",
    "**Sample Output 2:**<br/>\n",
    "[24]<br/>\n",
    "\n",
    "===================================================================\n",
    "\n",
    "**Sample Input 3:**<br/>\n",
    "[10, 20, 24, 25]<br/>\n",
    "**Sample Output 3:**<br/>\n",
    "[]<br/>\n",
    "\n",
    "===================================================================\n",
    "\n",
    "**Sample Input 4:**<br/>\n",
    "[10, 20, 24]<br/>\n",
    "**Sample Output 4:**<br/>\n",
    "Not possible<br/>\n",
    "\n",
    "==================================================================="
   ]
  },
  {
   "cell_type": "code",
   "execution_count": 3,
   "metadata": {
    "id": "3r7Ripj7U1zE"
   },
   "outputs": [
    {
     "name": "stdout",
     "output_type": "stream",
     "text": [
      "Enter a number: []\n",
      "Not possible\n"
     ]
    }
   ],
   "source": [
    "lst = (input(\"Enter a number: \"))\n",
    "lst = lst[1:-1]\n",
    "lst = lst.split(\", \")\n",
    "final = []\n",
    "if len(lst) >3:\n",
    "    lst = lst[2:-2]\n",
    "    for ele in lst:\n",
    "        final.append(int(ele))\n",
    "    print(final)\n",
    "else:\n",
    "    print(\"Not possible\")"
   ]
  },
  {
   "cell_type": "markdown",
   "metadata": {
    "id": "AWgZaBZCzmaM"
   },
   "source": [
    "### Task 3\n",
    "\n",
    "Write a python program that reads 5 numbers from the user into a list, and then prints them in the reverse order.\n",
    "\n",
    "*Hint: You may create a list to store the input numbers and then use loop to print them in reverse order*\n",
    "\n",
    "===================================================================\n",
    "\n",
    "**Sample Input:**\\\n",
    "5\\\n",
    "-5\\\n",
    "100\\\n",
    "1\\\n",
    "0\n",
    "\n",
    "**Sample Output:**\\\n",
    "0\\\n",
    "1\\\n",
    "100\\\n",
    "-5\\\n",
    "5\n",
    "\n",
    "==================================================================="
   ]
  },
  {
   "cell_type": "code",
   "execution_count": 4,
   "metadata": {
    "id": "ICW-03YOznTp"
   },
   "outputs": [
    {
     "name": "stdout",
     "output_type": "stream",
     "text": [
      "Enter a number: 5\n",
      "Enter a number: -5\n",
      "Enter a number: 100\n",
      "Enter a number: 1\n",
      "Enter a number: 0\n",
      "0\n",
      "1\n",
      "100\n",
      "-5\n",
      "5\n"
     ]
    }
   ],
   "source": [
    "lst = []\n",
    "for ele in range(5):\n",
    "    num = int(input(\"Enter a number: \"))\n",
    "    lst.append(num)\n",
    "lst = lst[::-1]\n",
    "for ele in lst:\n",
    "    print(ele)"
   ]
  },
  {
   "cell_type": "markdown",
   "metadata": {
    "id": "7a_1pYjfU1zI"
   },
   "source": [
    "### Task 4\n",
    "Assume, you have been given two lists. [Your program should work for any two given lists; change the following lists and check whether your program works correctly for the code you have written]\n",
    "\n",
    "list_one = [1, 2, 3, 4, 5, 6, 7, 8, 9]\\\n",
    "list_two = [10, 11, 12, -13, -14, -15, -16]\n",
    "\n",
    "Write a Python program that creates a new list with all the **even elements** of both of the given lists and prints the new list.\n",
    "\n",
    "**Hint:** You may create a third list to store the even elements of the given lists.\n",
    "\n",
    "===================================================================\n",
    "\n",
    "**Output for the above lists:** [2, 4, 6, 8, 10, 12, -14, -16]\n",
    "\n",
    "==================================================================="
   ]
  },
  {
   "cell_type": "code",
   "execution_count": 5,
   "metadata": {
    "id": "vToa7yazU1zI"
   },
   "outputs": [
    {
     "name": "stdout",
     "output_type": "stream",
     "text": [
      "[2, 4, 6, 8, 10, 12, -14, -16]\n"
     ]
    }
   ],
   "source": [
    "\n",
    "lst1 = [1, 2, 3, 4, 5, 6, 7, 8, 9]\n",
    "lst2 = [10, 11, 12, -13, -14, -15, -16] #as they didnt ask for input thats why didnt take any inputs\n",
    "final = []\n",
    "for ele in lst1:\n",
    "    ele = int(ele)\n",
    "    if ele % 2 == 0:\n",
    "        final.append(ele)\n",
    "for ele in lst2:\n",
    "    ele = int(ele)\n",
    "    if ele % 2 == 0:\n",
    "        final.append(ele)\n",
    "print(final)"
   ]
  },
  {
   "cell_type": "markdown",
   "metadata": {
    "id": "QaD4hLn92EKT"
   },
   "source": [
    "### Task 5\n",
    "\n",
    "Write a Python program that takes numbers as input into a list, removes multiple occurences of any number and then finally prints a list **without duplicate values**.\n",
    "\n",
    "*Hint: You may create a third list to store the results. You can use membership operators (in, not in) to make sure no duplicates are added.*\n",
    "\n",
    "===================================================================\n",
    "\n",
    "**Sample Input 1:**<br/>\n",
    "0, 0, 1, 2, 3, 4, 4, 5, 6, 6, 6, 7, 8, 9, 4, 4<br/>\n",
    "\n",
    "\n",
    "**Sample Output 1:**<br/>\n",
    "[0, 1, 2, 3, 4, 5, 6, 7, 8, 9]<br/>\n",
    "\n",
    "===================================================================\n",
    "\n",
    "**Sample Input 2:**<br/>\n",
    "7, 7, 7, 1, 0, 3, 3, 55, 9<br/>\n",
    "\n",
    "\n",
    "**Sample Output 2:**<br/>\n",
    "[7, 1, 0, 3, 55, 9]<br/>\n",
    "\n",
    "==================================================================="
   ]
  },
  {
   "cell_type": "code",
   "execution_count": 10,
   "metadata": {
    "id": "EUbQbz5hU1zP"
   },
   "outputs": [
    {
     "name": "stdout",
     "output_type": "stream",
     "text": [
      "Enter a number: 0, 0, 1, 2, 3, 4, 4, 5, 6, 6, 6, 7, 8, 9, 4, 4\n",
      "[0, 1, 2, 3, 4, 5, 6, 7, 8, 9]\n"
     ]
    }
   ],
   "source": [
    "lst = (input(\"Enter a number: \"))\n",
    "lst = lst.split(\", \")\n",
    "dup = []\n",
    "for ele in lst:\n",
    "    ele = int(ele)\n",
    "    if ele not in dup:\n",
    "        dup.append(ele)\n",
    "print(dup)"
   ]
  },
  {
   "cell_type": "markdown",
   "metadata": {
    "id": "wfcSytFVU1zU"
   },
   "source": [
    "### Task 6\n",
    "\n",
    "Write a Python program that reads 5 numbers into a list and prints the largest number and its location or index position on the list. <font color='red'>[You are not allowed to use the max(), sort(), sorted() function here]</font>\n",
    "\n",
    "**Hint:** Assume the first input to be the largest value initially and the largest value’s location to be 0.\n",
    "\n",
    "**Note:** You may need to be careful while printing the output. Depending on your code, you might need data conversion.\n",
    "\n",
    "===================================================================\n",
    "\n",
    "**Sample Input:**\\\n",
    " 7, 13, 2, 10, 6\n",
    "\n",
    "**Sample Output:**\\\n",
    "My list: [7, 13, 2, 10, 6]\\\n",
    "Largest number in the list is 13 which was found at index 1.\n",
    "\n",
    "==================================================================="
   ]
  },
  {
   "cell_type": "code",
   "execution_count": 6,
   "metadata": {
    "id": "kXbEh1t3U1zV"
   },
   "outputs": [
    {
     "name": "stdout",
     "output_type": "stream",
     "text": [
      "Enter a number: 7, 13, 2, 10, 6, 13\n",
      "My list: [7, 13, 2, 10, 6, 13]\n",
      "Largest number in the list is 13 which was found at index 1.\n"
     ]
    }
   ],
   "source": [
    "lst = (input(\"Enter a number: \"))\n",
    "lst = lst.split(\", \")\n",
    "count = 0\n",
    "final = []\n",
    "big = None\n",
    "bigcount = None\n",
    "for ele in lst:\n",
    "    ele = int(ele)\n",
    "    if count == 0:\n",
    "        big = ele\n",
    "        bigcount = count\n",
    "    elif ele > big:\n",
    "        big = ele\n",
    "        bigcount = count\n",
    "    final.append(ele)\n",
    "    count += 1\n",
    "print(\"My list:\",final)\n",
    "print(\"Largest number in the list is \" + str(big) + \" which was found at index \"+ str(bigcount)+\".\")"
   ]
  },
  {
   "cell_type": "markdown",
   "metadata": {
    "id": "nwRZ3_0tC3fq"
   },
   "source": [
    "### Task 7\n",
    "\n",
    "\n",
    "Assume, you have been given two lists. [Your program should work for any two given lists; make changes to the lists below and check whether your program works correctly]\n",
    "\n",
    "list_one = [1, 2 , 2, 4, 5, 5, 7, 99, 200, 303, 70]\\\n",
    "list_two = [1, 1, 2, 3, 3, 3, 4, 5, 200, 500, -5]\n",
    "\n",
    "Write a Python program that creates a new list with all the **unique elements** of both the given lists. \n",
    "<font color='red'> **You need to make sure that there are no duplicates in the resulting list.**</font> Finally, print the updated list.\n",
    "\n",
    "**Hint:** You may create a third list to store the results. You can use membership operators (in, not in) to make sure no duplicates are added.\n",
    "\n",
    "===================================================================\n",
    "\n",
    "**Output for the above two lists**: \n",
    "[1, 2, 4, 5, 7, 99, 200, 303, 70, 3, 500, -5]\n",
    "\n",
    "===================================================================\n",
    "\n"
   ]
  },
  {
   "cell_type": "code",
   "execution_count": 2,
   "metadata": {
    "id": "LEnaTlyoMJdS"
   },
   "outputs": [
    {
     "name": "stdout",
     "output_type": "stream",
     "text": [
      "[1, 2, 4, 5, 7, 99, 200, 303, 70, 3, 500, -5]\n"
     ]
    }
   ],
   "source": [
    "\n",
    "lst1 = [1, 2 , 2, 4, 5, 5, 7, 99, 200, 303, 70]\n",
    "lst2 = [1, 1, 2, 3, 3, 3, 4, 5, 200, 500, -5] #as they didnt ask for input thats why didnt take any inputs \n",
    "final = []\n",
    "for ele in lst1:\n",
    "    ele = int(ele)\n",
    "    if ele not in final:\n",
    "        final.append(ele)\n",
    "for ele in lst2:\n",
    "    ele = int(ele)\n",
    "    if ele not in final:\n",
    "        final.append(ele)\n",
    "print(final)"
   ]
  },
  {
   "cell_type": "markdown",
   "metadata": {
    "id": "bvF30RQlemBW"
   },
   "source": [
    "### Task 8\n",
    "\n",
    "Write a Python program that takes two lists and prints True if they have at least one common member.\n",
    "\n",
    "===================================================================\n",
    "\n",
    "**Sample Input 1:**\\\n",
    "List_one : [1, 4, 3, 2, 6]\\\n",
    "List_two : [5, 6, 9, 8, 7]\n",
    "\n",
    "**Sample Output 1:**\\\n",
    "True\n",
    "\n",
    "===================================================================\n",
    "\n",
    "**Sample Input 2:**\\\n",
    "List_one : [1, 4, 3, 2, 5]\\\n",
    "List_two : [8, 7, 6, 9]\n",
    "\n",
    "**Sample Output 2:**\\\n",
    "False\n",
    "\n",
    "===================================================================\n"
   ]
  },
  {
   "cell_type": "code",
   "execution_count": 10,
   "metadata": {
    "id": "yIlAlqlGe7IA"
   },
   "outputs": [
    {
     "name": "stdout",
     "output_type": "stream",
     "text": [
      "Enter a number: [5, 6, 9, 8, 7]\n",
      "Enter a number: [5, 6, 9, 8, 7]\n",
      "True\n"
     ]
    }
   ],
   "source": [
    "lst1 = (input(\"Enter a number: \"))\n",
    "lst1 = lst1[1:-1]\n",
    "lst1 = lst1.split(\", \")\n",
    "lst2 = (input(\"Enter a number: \"))\n",
    "lst2 = lst2[1:-1]\n",
    "lst2 = lst2.split(\", \")\n",
    "condition = True\n",
    "for ele in lst1:\n",
    "    if ele in lst2:\n",
    "        print(\"True\")\n",
    "        condition = False\n",
    "        break\n",
    "if condition:\n",
    "    print(False)"
   ]
  },
  {
   "cell_type": "markdown",
   "metadata": {
    "id": "vyFt-Ra5erR4"
   },
   "source": [
    "### Task 9\n",
    "\n",
    "Write a Python program that reads 10 numbers into a list and prints the numbers of that specified list after removing **even numbers** from it.\n",
    "\n",
    "=========================================================================\n",
    "\n",
    "**Sample Input:**\n",
    "\n",
    "7,12,4,55,96,2,11,61,33,42\n",
    "\n",
    "**Sample Output:**\n",
    "\n",
    "[7, 55, 11, 61, 33]\n",
    "\n",
    "=========================================================================\n",
    "\n",
    "\n",
    "\n"
   ]
  },
  {
   "cell_type": "code",
   "execution_count": 11,
   "metadata": {
    "id": "1U3bswq9e9B3"
   },
   "outputs": [
    {
     "name": "stdout",
     "output_type": "stream",
     "text": [
      "Enter a number: 7,12,4,55,96,2,11,61,33,42\n",
      "[7, 55, 11, 61, 33]\n"
     ]
    }
   ],
   "source": [
    "lst1 = (input(\"Enter a number: \"))\n",
    "lst1 = lst1.split(\",\")\n",
    "final = []\n",
    "for ele in lst1:\n",
    "    ele = int(ele)\n",
    "    if ele % 2 != 0:\n",
    "        final.append(ele)\n",
    "print(final)"
   ]
  },
  {
   "cell_type": "markdown",
   "metadata": {
    "id": "G9jPuLWOetqd"
   },
   "source": [
    "### Task 10\n",
    "\n",
    "Write a Python program that removes all Empty strings from a given list and print the new list.\n",
    "\n",
    "=========================================================================\n",
    "\n",
    "**Sample Input:**\n",
    "\n",
    "[\"hey\", \"there\", \" \", \"what's\", \" \", \"up\", \" \", \"?\"]\n",
    "\n",
    "**Sample Output:**\n",
    "\n",
    "Original List:\n",
    "[\"hey\", \"there\", \" \", \"what's\", \" \", \"up\", \" \", \"?\"]\n",
    "\n",
    "Modified List:\n",
    "[\"hey\", \"there\", \"what's\", \"up\", \"?\"]\n",
    "\n",
    "==========================================================================\n",
    "\n",
    "\n"
   ]
  },
  {
   "cell_type": "code",
   "execution_count": 13,
   "metadata": {
    "id": "OlrhifBge-TA"
   },
   "outputs": [
    {
     "name": "stdout",
     "output_type": "stream",
     "text": [
      "Enter a number: [\"hey\", \"there\", \"\", \"what's\", \"\", \"up\", \"\", \"?\"]\n",
      "Orginal List: [\"hey\", \"there\", \"\", \"what's\", \"\", \"up\", \"\", \"?\"]\n",
      "Modified List ['hey', 'there', \"what's\", 'up', '?']\n"
     ]
    }
   ],
   "source": [
    "lst1 = (input(\"Enter a number: \"))\n",
    "rawresult = lst1\n",
    "lst1 = lst1[1:-1].split(\", \")\n",
    "final = []\n",
    "result = []\n",
    "for ele in lst1:\n",
    "    ele = ele[1:-1]\n",
    "    final.append(ele)\n",
    "for ele in final:\n",
    "    if ele != '' :             #for empty string identification \n",
    "        result.append(ele)\n",
    "print(\"Orginal List:\",rawresult)\n",
    "print(\"Modified List\",result)"
   ]
  },
  {
   "cell_type": "markdown",
   "metadata": {
    "id": "UjTy79X6ewce"
   },
   "source": [
    "## Task 11\n",
    "\n",
    "Write a Python program that replaces the last element of first list with second list.\n",
    "\n",
    "===================================================================\n",
    "\n",
    "**Sample Input 1:**\\\n",
    "List_one : [1, 4, 7, 5]\\\n",
    "List_two : [6, 1, 3, 9]\n",
    "\n",
    "**Sample Output 1:**\\\n",
    "[1, 4, 7, 6, 1, 3, 9]\n",
    "\n",
    "===================================================================\n",
    "\n",
    "**Sample Input 2:**\\\n",
    "List_one : [1, 3, 5, 7, 9, 10]\\\n",
    "List_two : [2, 4, 6, 8]\n",
    "\n",
    "**Sample Output 2:**\\\n",
    "[1, 3, 5, 7, 9, 2, 4, 6, 8]\n",
    "\n",
    "===================================================================\n",
    "\n",
    "\n",
    "\n"
   ]
  },
  {
   "cell_type": "code",
   "execution_count": 14,
   "metadata": {
    "id": "bBseKJuse_bX"
   },
   "outputs": [
    {
     "name": "stdout",
     "output_type": "stream",
     "text": [
      "Enter a number: [1, 3, 5, 7, 9, 10]\n",
      "Enter a number: [2, 4, 6, 8]\n",
      "[1, 3, 5, 7, 9, 2, 4, 6, 8]\n"
     ]
    }
   ],
   "source": [
    "lst1 = (input(\"Enter a number: \"))\n",
    "lst1 = lst1[1:-1]\n",
    "lst1 = lst1.split(\", \")\n",
    "lst2 = (input(\"Enter a number: \"))\n",
    "lst2 = lst2[1:-1]\n",
    "lst2 = lst2.split(\", \")\n",
    "lst1 = lst1[:-1]\n",
    "final1 = [] \n",
    "for ele in lst1:\n",
    "    ele = int(ele)\n",
    "    final1.append(ele)\n",
    "for ele in lst2:\n",
    "    ele = int(ele)\n",
    "    final1.append(ele)\n",
    "print(final1)"
   ]
  },
  {
   "cell_type": "markdown",
   "metadata": {
    "id": "4pBLPmvre0jv"
   },
   "source": [
    "### Task 12\n",
    "\n",
    "Write a Python program that turns every item of a list into its square.\n",
    "\n",
    "===================================================================\n",
    "\n",
    "**Sample Input 1:**\\\n",
    "[1, 2, 3, 4, 5, 6, 7]\n",
    "\n",
    "**Sample Output 1:**\\\n",
    "[1, 4, 9, 16, 25, 36, 49]\n",
    "\n",
    "===================================================================\n",
    "\n",
    "**Sample Input 2:**\\\n",
    "[3, 5, 1, 6]\n",
    "\n",
    "**Sample Output 2:**\\\n",
    "[9, 25, 1, 36]\n",
    "\n",
    "\n",
    "===================================================================\n",
    "\n",
    "\n",
    "\n",
    "\n",
    "\n"
   ]
  },
  {
   "cell_type": "code",
   "execution_count": 15,
   "metadata": {
    "id": "5NDg0odDfANt"
   },
   "outputs": [
    {
     "name": "stdout",
     "output_type": "stream",
     "text": [
      "Enter a list: [1, 2, 3, 4, 5, 6, 7]\n",
      "[1, 4, 9, 16, 25, 36, 49]\n"
     ]
    }
   ],
   "source": [
    "lst1 = (input(\"Enter a list: \"))\n",
    "lst1 = lst1[1:-1]\n",
    "lst1 = lst1.split(\", \")\n",
    "final = []\n",
    "for ele in lst1:\n",
    "    ele = int(ele)\n",
    "    ele = ele*ele\n",
    "    final.append(ele)\n",
    "print(final)"
   ]
  },
  {
   "cell_type": "markdown",
   "metadata": {
    "id": "WZXnxHTdGrMC"
   },
   "source": [
    "## Optional Tasks (13-15) [Ungraded]"
   ]
  },
  {
   "cell_type": "markdown",
   "metadata": {
    "id": "lvSiLaobU1zY"
   },
   "source": [
    "### Task 13\n",
    "\n",
    "Write a Python program that reads 5 numbers into a list and prints the smallest and largest number and their locations in the list. <font color='red'>[You are not allowed to use the max(), min(), sort(), sorted() functions here]</font>\n",
    "\n",
    "**Hint:** You may assume the first input to be the largest value initially and the largest value’s location to be 0. Similarly, you can assume the first input to be the smallest value initially and the smallest value’s location to be 0. \n",
    "\n",
    "**Note:** You may need to be careful while printing the output. Depending on your code, you might need data conversion.\n",
    "\n",
    "===================================================================\n",
    "\n",
    "**Sample Input:**\\\n",
    "7, 13, -5, 10, 6\n",
    "\n",
    "**Sample Output:**\\\n",
    "My list: [7, 13, -5, 10, 6]\\\n",
    "Smallest number in the list is -5 which was found at index 2\\\n",
    "Largest number in the list is 13 which was found at index 1\n",
    "\n",
    "==================================================================="
   ]
  },
  {
   "cell_type": "code",
   "execution_count": 11,
   "metadata": {
    "id": "yiS5TWSDU1zY"
   },
   "outputs": [
    {
     "name": "stdout",
     "output_type": "stream",
     "text": [
      "Enter a number: -7, 13, -5, 10, 6\n",
      "My list: [-7, 13, -5, 10, 6]\n",
      "Smallest number in the list is -7 which was found at index 0\n",
      "Largest number in the list is 13 which was found at index 1\n"
     ]
    }
   ],
   "source": [
    "lst = (input(\"Enter a number: \"))\n",
    "lst = lst.split(\", \")\n",
    "count = 0\n",
    "final = []\n",
    "big = None\n",
    "bigcount = None\n",
    "small = None\n",
    "smallcount = None\n",
    "for i in lst:\n",
    "    i = int(i)\n",
    "    if count == 0:\n",
    "        big = i\n",
    "        small = i\n",
    "        bigcount = count\n",
    "        smallcount = count\n",
    "    elif i > big:\n",
    "        big = i\n",
    "        bigcount = count\n",
    "    elif i < small:\n",
    "        small = i\n",
    "        smallcount = count\n",
    "    final.append(i)\n",
    "    count += 1\n",
    "print(\"My list:\",final)\n",
    "print(\"Smallest number in the list is \" + str(small) + \" which was found at index \"+ str(smallcount))\n",
    "print(\"Largest number in the list is \" + str(big) + \" which was found at index \"+ str(bigcount))"
   ]
  },
  {
   "cell_type": "markdown",
   "metadata": {
    "id": "rguDZ8SBCHD8"
   },
   "source": [
    "### Task 14\n",
    "Write a Python program that takes two lists as an input from the user. Then print a new list with the **common elements** of both the input lists. \n",
    "\n",
    "*Hint: You may need to create a third list to store the results. You can use membership operators (in, not in) to make sure similar elements are added.*\n",
    "\n",
    "===================================================================\n",
    "\n",
    "**Sample Input 1:**<br/>\n",
    "A, B, C, D\n",
    "\n",
    "\n",
    "C, E , F, B\n",
    "\n",
    "\n",
    "**Sample Output 1:**<br/>\n",
    "['C', 'B']\n",
    "\n",
    "===================================================================\n",
    "\n",
    "**Sample Input 2:**<br/>\n",
    "1, 3, A, H, P\n",
    "\n",
    "\n",
    "A, G, 1, P, O\n",
    "\n",
    "\n",
    "**Sample Output 2:**<br/>\n",
    "['1', 'A', 'P']\n",
    "\n",
    "===================================================================\n"
   ]
  },
  {
   "cell_type": "code",
   "execution_count": 9,
   "metadata": {
    "id": "3iueGiPPGG66"
   },
   "outputs": [
    {
     "name": "stdout",
     "output_type": "stream",
     "text": [
      "Enter a number: 1, 3, A, H, P\n",
      "Enter a number: A, G, 1, P, O\n",
      "['1', 'A', 'P']\n"
     ]
    }
   ],
   "source": [
    "lst1 = (input(\"Enter a number: \"))\n",
    "lst1 = lst1.split(\", \")\n",
    "lst2 = (input(\"Enter a number: \"))\n",
    "lst2 = lst2.split(\", \")\n",
    "final = []\n",
    "for i in lst1:\n",
    "    if i in lst2 and i not in final:\n",
    "        final.append(i)\n",
    "print(final)"
   ]
  },
  {
   "cell_type": "markdown",
   "metadata": {
    "id": "tjcE5oitCM2s"
   },
   "source": [
    "### Task 15\n",
    "\n",
    "\n",
    "Write a Python program that reads 5 numbers into a list and prints the second largest number and its location or index position on the list. <font color='red'>[You are not allowed to use the max(), sort(), sorted() function here]</font>\n",
    "\n",
    "===================================================================\n",
    "\n",
    "**Sample Input:**\\\n",
    " 7, 13, 2, 10, 6\n",
    "\n",
    "**Sample Output:**\\\n",
    "My list: [7, 13, 2, 10, 6]\\\n",
    "Second largest number in the list is 10 which was found at index 3.\n",
    "\n",
    "==================================================================="
   ]
  },
  {
   "cell_type": "code",
   "execution_count": null,
   "metadata": {
    "id": "b2TwkUqnGZU-"
   },
   "outputs": [],
   "source": [
    "lst = (input(\"Enter a number: \"))\n",
    "lst = lst.split(\", \")\n",
    "count = 0\n",
    "final = []\n",
    "big = None\n",
    "bigcount = None\n",
    "sbig = None\n",
    "sbigcount = None\n",
    "for i in lst:\n",
    "    i = int(i)\n",
    "    if count == 0:\n",
    "        big = i\n",
    "        bigcount = count\n",
    "    elif i > big:\n",
    "        big = i\n",
    "        bigcount = count\n",
    "    final.append(i)\n",
    "    count += 1\n",
    "count = 0\n",
    "for i in final:\n",
    "    if i != big and count == 0:\n",
    "        sbig = i\n",
    "        sbigcount = count\n",
    "    elif i != big and i > sbig:\n",
    "        sbig = i\n",
    "        sbigcount = count\n",
    "    count += 1\n",
    "print(\"My list:\",final)\n",
    "print(\"Second largest number in the list is \" + str(sbig) + \" which was found at index \"+ str(sbigcount))"
   ]
  }
 ],
 "metadata": {
  "colab": {
   "collapsed_sections": [],
   "name": "CSE110 Lab Assignment 4.ipynb",
   "provenance": []
  },
  "kernelspec": {
   "display_name": "Python 3",
   "language": "python",
   "name": "python3"
  },
  "language_info": {
   "codemirror_mode": {
    "name": "ipython",
    "version": 3
   },
   "file_extension": ".py",
   "mimetype": "text/x-python",
   "name": "python",
   "nbconvert_exporter": "python",
   "pygments_lexer": "ipython3",
   "version": "3.7.6"
  }
 },
 "nbformat": 4,
 "nbformat_minor": 1
}
