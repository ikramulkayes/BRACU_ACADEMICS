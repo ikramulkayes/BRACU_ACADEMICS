{
 "cells": [
  {
   "cell_type": "code",
   "execution_count": 6,
   "metadata": {},
   "outputs": [
    {
     "name": "stdout",
     "output_type": "stream",
     "text": [
      "Enter a word: abAAZaz\n",
      "Enter a number: 0\n",
      "Enter a number: 7\n",
      "Invalid Index\n",
      "\n"
     ]
    }
   ],
   "source": [
    "val_1=input(\"Enter a word: \")\n",
    "int_1=int(input(\"Enter a number: \"))\n",
    "int_2=int(input(\"Enter a number: \"))\n",
    "val_2=val_1[int_1:int_2+1]\n",
    "val_3=\"\"\n",
    "\n",
    "if int_2>(len(val_1)-1):\n",
    "    print(\"Invalid Index\")\n",
    "else:\n",
    "    for elm in val_2:\n",
    "        if elm == \"y\":\n",
    "            elm = \"a\"\n",
    "        elif elm == \"z\":\n",
    "            elm = \"b\"\n",
    "        elif elm == \"Y\":\n",
    "            elm = \"A\"\n",
    "        elif elm == \"Z\":\n",
    "            elm = \"B\"\n",
    "        else:\n",
    "            val = ord(elm)\n",
    "            val += 2\n",
    "            elm = chr(val)\n",
    "        val_3 = val_3 + elm\n",
    "        \n",
    "\n",
    "print(val_3)"
   ]
  },
  {
   "cell_type": "code",
   "execution_count": null,
   "metadata": {},
   "outputs": [],
   "source": []
  }
 ],
 "metadata": {
  "kernelspec": {
   "display_name": "Python 3",
   "language": "python",
   "name": "python3"
  },
  "language_info": {
   "codemirror_mode": {
    "name": "ipython",
    "version": 3
   },
   "file_extension": ".py",
   "mimetype": "text/x-python",
   "name": "python",
   "nbconvert_exporter": "python",
   "pygments_lexer": "ipython3",
   "version": "3.7.6"
  }
 },
 "nbformat": 4,
 "nbformat_minor": 4
}
