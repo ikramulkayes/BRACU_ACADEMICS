{
 "cells": [
  {
   "cell_type": "code",
   "execution_count": 9,
   "metadata": {},
   "outputs": [
    {
     "name": "stdout",
     "output_type": "stream",
     "text": [
      "Enter a string: a\n",
      "Enter a string: b\n",
      "Enter a string: STOP\n",
      "a\n",
      "bb\n"
     ]
    }
   ],
   "source": [
    "lst = []              #THIS IS QUE NO 1 Answer\n",
    "count = 1\n",
    "while True:\n",
    "    word = input(\"Enter a string: \")\n",
    "    if word == \"STOP\":\n",
    "        break\n",
    "    lst.append(word)\n",
    "    \n",
    "for elm1 in lst:\n",
    "    final = elm1\n",
    "    for elm2 in range(count):\n",
    "        if elm2 == count -1:\n",
    "            print(final)\n",
    "        else:\n",
    "            print(final,end=\"\")\n",
    "    count += 1"
   ]
  },
  {
   "cell_type": "code",
   "execution_count": 7,
   "metadata": {},
   "outputs": [
    {
     "name": "stdout",
     "output_type": "stream",
     "text": [
      "Enter a string: hello_there!\n",
      "Enter a number: 4\n",
      "Enter a word: s\n",
      "\"hello_there!\"is an invalid password\n"
     ]
    }
   ],
   "source": [
    "val_1=input(\"Enter a string: \") #This is que no 2 Answer\n",
    "val_2=int(input(\"Enter a number: \"))\n",
    "val_3=input(\"Enter a word: \")\n",
    "count=0\n",
    "count_2=0\n",
    "count_3=0\n",
    "flag=True\n",
    "for elm1 in val_1:\n",
    "    count+=1\n",
    "for elm1 in val_3:\n",
    "    count_2+=1\n",
    "if \" \" in val_1:\n",
    "    flag=False\n",
    "elif count>=val_2:\n",
    "    for elm2 in val_3:\n",
    "        if elm2 in val_1:\n",
    "            count_3+=1\n",
    "\n",
    "elif count<val_2:\n",
    "\n",
    "    flag=False\n",
    "\n",
    "if flag and count_2==count_3:\n",
    "    print('\"' +val_1+'\"is a valid password')\n",
    "else:\n",
    "    print('\"' +val_1+'\"is an invalid password')"
   ]
  },
  {
   "cell_type": "code",
   "execution_count": null,
   "metadata": {},
   "outputs": [],
   "source": []
  }
 ],
 "metadata": {
  "kernelspec": {
   "display_name": "Python 3",
   "language": "python",
   "name": "python3"
  },
  "language_info": {
   "codemirror_mode": {
    "name": "ipython",
    "version": 3
   },
   "file_extension": ".py",
   "mimetype": "text/x-python",
   "name": "python",
   "nbconvert_exporter": "python",
   "pygments_lexer": "ipython3",
   "version": "3.7.6"
  }
 },
 "nbformat": 4,
 "nbformat_minor": 4
}
