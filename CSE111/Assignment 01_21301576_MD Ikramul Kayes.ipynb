{
 "cells": [
  {
   "cell_type": "code",
   "execution_count": 3,
   "id": "d8c22704",
   "metadata": {},
   "outputs": [
    {
     "name": "stdout",
     "output_type": "stream",
     "text": [
      "Enter a string: BaNaNa\n",
      "banana\n"
     ]
    }
   ],
   "source": [
    "#STRING\n",
    "#Task1\n",
    "\n",
    "\n",
    "word = input(\"Enter a string: \")\n",
    "upcount = 0\n",
    "locount = 0\n",
    "for elm in word:\n",
    "    if elm.isupper():\n",
    "        upcount += 1\n",
    "    elif elm.islower():\n",
    "        locount+= 1\n",
    "if upcount > locount:\n",
    "    print(word.upper())\n",
    "else:\n",
    "    print(word.lower())"
   ]
  },
  {
   "cell_type": "code",
   "execution_count": 7,
   "id": "7a1981e6",
   "metadata": {},
   "outputs": [
    {
     "name": "stdout",
     "output_type": "stream",
     "text": [
      "Enter a string: Hello\n",
      "WORD\n"
     ]
    }
   ],
   "source": [
    "#STRING\n",
    "#Task2\n",
    "\n",
    "word = input(\"Enter a string: \")\n",
    "\n",
    "if word.isdigit():\n",
    "    print(\"NUMBER\")\n",
    "elif word.isalpha():\n",
    "    print(\"WORD\")\n",
    "else:\n",
    "    print(\"MIXED\")"
   ]
  },
  {
   "cell_type": "code",
   "execution_count": 9,
   "id": "521ce408",
   "metadata": {},
   "outputs": [
    {
     "name": "stdout",
     "output_type": "stream",
     "text": [
      "Enter a string: coDIng\n",
      "BLANK\n"
     ]
    }
   ],
   "source": [
    "#STRING\n",
    "#Task3\n",
    "\n",
    "\n",
    "word = input(\"Enter a string: \")\n",
    "final = \"\"\n",
    "flag = False\n",
    "for elm in word:\n",
    "    if flag:\n",
    "        if elm.isupper():\n",
    "            break\n",
    "            \n",
    "        final += elm\n",
    "    if elm.isupper():\n",
    "        flag = True\n",
    "if final == \"\":\n",
    "    print(\"BLANK\")\n",
    "else:\n",
    "    print(final)"
   ]
  },
  {
   "cell_type": "code",
   "execution_count": 2,
   "id": "d02e148e",
   "metadata": {},
   "outputs": [
    {
     "name": "stdout",
     "output_type": "stream",
     "text": [
      "Enter a sentence: the book is too good!\n",
      "the book is excellent!\n"
     ]
    }
   ],
   "source": [
    "#STRING\n",
    "#Task4\n",
    "\n",
    "word = input(\"Enter a sentence: \")\n",
    "\n",
    "word = word.replace(\"too good\",\"excellent\",1)\n",
    "\n",
    "print(word)"
   ]
  },
  {
   "cell_type": "code",
   "execution_count": 4,
   "id": "d27510a2",
   "metadata": {},
   "outputs": [
    {
     "name": "stdout",
     "output_type": "stream",
     "text": [
      "Enter a word: harry\n",
      "Enter another word: hermione\n",
      "hrrhr\n"
     ]
    }
   ],
   "source": [
    "#STRING\n",
    "#Task5\n",
    "\n",
    "word1 = input(\"Enter a word: \")\n",
    "word2 = input(\"Enter another word: \")\n",
    "\n",
    "final = \"\"\n",
    "\n",
    "for elm in word1:\n",
    "    if elm in word2:\n",
    "        final += elm\n",
    "for elm in word2:\n",
    "    if elm in word1:\n",
    "        final += elm\n",
    "if len(final)>1:\n",
    "    print(final)\n",
    "else:\n",
    "    print(\"Nothing in common.\")"
   ]
  },
  {
   "cell_type": "code",
   "execution_count": 15,
   "id": "6feb4cee",
   "metadata": {},
   "outputs": [
    {
     "name": "stdout",
     "output_type": "stream",
     "text": [
      "Enter your password: OhMyBR@CU20\n",
      "OK\n"
     ]
    }
   ],
   "source": [
    "#STRING\n",
    "#Task6\n",
    "\n",
    "password = input(\"Enter your password: \")\n",
    "lowerflag = True\n",
    "upperflag = True\n",
    "digitflag = True\n",
    "spflag = True\n",
    "splst = (\"_\" , \"$\" , \"#\", \"@\")\n",
    "for elm in password:\n",
    "    if elm.isalpha():\n",
    "        if elm.islower():\n",
    "            lowerflag = False\n",
    "        elif elm.isupper():\n",
    "            upperflag = False\n",
    "    elif elm.isdigit():\n",
    "        digitflag = False\n",
    "    elif elm in splst:\n",
    "        spflag = False\n",
    "final = \"\"\n",
    "\n",
    "if lowerflag:\n",
    "    final += \"Lowercase character missing, \"\n",
    "if upperflag:\n",
    "    final += \"Uppercase character missing, \"\n",
    "if digitflag:\n",
    "    final += \"Digit missing, \"\n",
    "if spflag:\n",
    "    final += \"Special character missing, \"\n",
    "\n",
    "if len(final) == 0:\n",
    "    print(\"OK\")\n",
    "else:\n",
    "    final = final.rstrip(\", \")\n",
    "    print(final)"
   ]
  },
  {
   "cell_type": "code",
   "execution_count": 7,
   "id": "1dde8c56",
   "metadata": {},
   "outputs": [
    {
     "name": "stdout",
     "output_type": "stream",
     "text": [
      "Enter a number: 10\n",
      "Enter a number: 20\n",
      "Enter a number: 20\n",
      "Enter a number: 30\n",
      "Enter a number: 10\n",
      "Enter a number: 50\n",
      "Enter a number: 90\n",
      "Enter a number: STOP\n",
      "10 - 2 times\n",
      "20 - 2 times\n",
      "30 - 1 times\n",
      "50 - 1 times\n",
      "90 - 1 times\n"
     ]
    }
   ],
   "source": [
    "#LIST\n",
    "#Task1\n",
    "\n",
    "lst = []\n",
    "while True:\n",
    "\n",
    "    num = input(\"Enter a number: \")\n",
    "    if num == \"STOP\":\n",
    "        break\n",
    "    num = int(num)\n",
    "    lst.append(num)\n",
    "final = \"\"\n",
    "count = 0\n",
    "checkedlst = []\n",
    "for elm in lst:\n",
    "    if elm in checkedlst:\n",
    "        continue\n",
    "    else:\n",
    "        checkedlst.append(elm)\n",
    "        for elm2 in lst:\n",
    "            if elm == elm2:\n",
    "                count += 1\n",
    "        final += str(elm) + \" \"+ \"-\"+\" \"+ str(count) +\" times\\n\"\n",
    "        count = 0\n",
    "final = final.rstrip(\"\\n\")\n",
    "print(final)"
   ]
  },
  {
   "cell_type": "code",
   "execution_count": 16,
   "id": "b43c79f3",
   "metadata": {},
   "outputs": [
    {
     "name": "stdout",
     "output_type": "stream",
     "text": [
      "Enter the number of lst you want to input: 4\n",
      "Input your list: 1 2 3\n",
      "Input your list: 4 5 6\n",
      "Input your list: 10 11 12\n",
      "Input your list: 7 8 9\n",
      "33\n",
      "[10, 11, 12]\n"
     ]
    }
   ],
   "source": [
    "#LIST\n",
    "#Task2\n",
    "\n",
    "loop = int(input(\"Enter the number of lst you want to input: \"))\n",
    "lst = []\n",
    "for elm in range(loop):\n",
    "    word = input(\"Input your list: \")\n",
    "    word = word.split()\n",
    "    lst.append(word)\n",
    "\n",
    "maxsum = None\n",
    "maxlst = None\n",
    "sum1 = 0\n",
    "templst = []\n",
    "for lstelm in lst:\n",
    "    for elm in lstelm:\n",
    "        elm = int(elm)\n",
    "        templst.append(elm)\n",
    "        sum1 += elm\n",
    "    if maxsum == None:\n",
    "        maxsum = sum1\n",
    "        maxlst = templst\n",
    "    elif sum1 > maxsum:\n",
    "        maxsum = sum1\n",
    "        maxlst = templst\n",
    "    templst = []\n",
    "    sum1 = 0\n",
    "print(maxsum)\n",
    "print(maxlst)"
   ]
  },
  {
   "cell_type": "code",
   "execution_count": 17,
   "id": "70b35e44",
   "metadata": {},
   "outputs": [
    {
     "name": "stdout",
     "output_type": "stream",
     "text": [
      "Input your list: 2 3 6\n",
      "Input your another list: 3 4 5\n",
      "[6, 8, 10, 9, 12, 15, 18, 24, 30]\n"
     ]
    }
   ],
   "source": [
    "#LIST\n",
    "#Task3\n",
    "\n",
    "lst1 = input(\"Input your list: \")\n",
    "lst2 = input(\"Input your another list: \")\n",
    "\n",
    "lst1= lst1.split(\" \")\n",
    "lst2 = lst2.split(\" \")\n",
    "\n",
    "sum1 = 0\n",
    "final = []\n",
    "\n",
    "for elm in lst1:\n",
    "    elm = int(elm)\n",
    "    for elm2 in lst2:\n",
    "        elm2 = int(elm2)\n",
    "        sum1 = elm*elm2\n",
    "        final.append(sum1)\n",
    "print(final)"
   ]
  },
  {
   "cell_type": "code",
   "execution_count": 18,
   "id": "a9c21614",
   "metadata": {},
   "outputs": [
    {
     "name": "stdout",
     "output_type": "stream",
     "text": [
      "Enter your list: 1 4 2 3\n",
      "Enter your list: 2 1 4 6 10\n",
      "Enter your list: 1 4 2 -1 6\n",
      "Enter your list: STOP\n",
      "UB Jumper\n",
      "UB Jumper\n",
      "Not UB Jumper\n"
     ]
    }
   ],
   "source": [
    "#LIST\n",
    "#Task4\n",
    "\n",
    "lst = []\n",
    "while True:\n",
    "    word = input(\"Enter your list: \")\n",
    "    if word ==\"STOP\":\n",
    "        break\n",
    "    else:\n",
    "        word = word.split(\" \")\n",
    "        lst.append(word)\n",
    "sum1 = 0\n",
    "flag = True\n",
    "count = 0\n",
    "lim = 0\n",
    "for lstelm in lst:\n",
    "    for elm in lstelm:\n",
    "        if count < len(lstelm) - 1:\n",
    "            sum1 = int(elm) - int(lstelm[count+1])\n",
    "            sum1 = abs(sum1)\n",
    "            #print(sum1)\n",
    "            count += 1\n",
    "            if sum1 < len(lstelm) and sum1 > 0:\n",
    "                continue\n",
    "            else:\n",
    "                flag = False\n",
    "    if flag:\n",
    "        print(\"UB Jumper\")\n",
    "            \n",
    "    else:\n",
    "        print(\"Not UB Jumper\")\n",
    "    flag = True\n",
    "    count = 0"
   ]
  },
  {
   "cell_type": "code",
   "execution_count": 19,
   "id": "8381c537",
   "metadata": {},
   "outputs": [
    {
     "name": "stdout",
     "output_type": "stream",
     "text": [
      "Enter a string: Bracu1234\n",
      "acruB1324\n"
     ]
    }
   ],
   "source": [
    "#LIST\n",
    "#Task5\n",
    "\n",
    "word = input(\"Enter a string: \")\n",
    "\n",
    "lowersorted = []\n",
    "upersorted = []\n",
    "digits = []\n",
    "\n",
    "even = \"\"\n",
    "odd = \"\"\n",
    "finaldigit = \"\"\n",
    "finallower = \"\"\n",
    "finalupper = \"\"\n",
    "final = \"\"\n",
    "\n",
    "for elm in word:\n",
    "    if elm.isalpha():\n",
    "        if elm.isupper():\n",
    "            upersorted.append(elm) #putting lower upper and digits in different variables\n",
    "        else:\n",
    "            lowersorted.append(elm)\n",
    "    elif elm.isdigit():\n",
    "        digits.append(elm)\n",
    "\n",
    "lowersorted = sorted(lowersorted) #sorting lower and upper variables\n",
    "upersorted = sorted(upersorted)\n",
    "\n",
    "for elm in digits:\n",
    "    elm = int(elm)\n",
    "    if elm % 2 == 0:\n",
    "        even += str(elm)   #storing even odd in different variables\n",
    "    else:\n",
    "        odd += str(elm)\n",
    "finaldigit =  odd + even\n",
    "\n",
    "for elm in lowersorted:\n",
    "    finallower += elm\n",
    "\n",
    "for elm in upersorted:\n",
    "    finalupper += elm\n",
    "\n",
    "final = finallower + finalupper + finaldigit\n",
    "\n",
    "print(final)"
   ]
  },
  {
   "cell_type": "code",
   "execution_count": 22,
   "id": "cae6ab1d",
   "metadata": {},
   "outputs": [
    {
     "name": "stdout",
     "output_type": "stream",
     "text": [
      "First input: 6 5\n",
      "Second input: 0 0 0 0 0 0\n",
      "2\n"
     ]
    }
   ],
   "source": [
    "#LIST\n",
    "#Task6\n",
    "\n",
    "lst1 = input(\"First input: \")\n",
    "lst2 = input(\"Second input: \")\n",
    "\n",
    "lst1 = lst1.split()\n",
    "lst2 = lst2.split()\n",
    "\n",
    "lst2 = sorted(lst2)\n",
    "templst = []\n",
    "count = 0\n",
    "while count < int(lst1[1]):       #running the loop for k times\n",
    "    for elm in lst2:\n",
    "        elm = int(elm)\n",
    "        if elm <5:             #checking if the player is acceptable\n",
    "            elm += 1          \n",
    "            templst.append(elm)\n",
    "    lst2 = templst.copy()\n",
    "    templst = []\n",
    "    count += 1\n",
    "#print(lst2)\n",
    "final = len(lst2)//3\n",
    "print(final)"
   ]
  },
  {
   "cell_type": "code",
   "execution_count": 5,
   "id": "5a463290",
   "metadata": {},
   "outputs": [
    {
     "name": "stdout",
     "output_type": "stream",
     "text": [
      "Enter a string: a: 100, b: 100, c: 200, d: 300\n",
      "Enter another string: a: 300, b: 200, d: 400, e: 200\n",
      "{'a': 400, 'b': 300, 'c': 200, 'd': 700, 'e': 200}\n",
      "Values: (200, 300, 400, 700)\n"
     ]
    }
   ],
   "source": [
    "#Dictionary & Tuple\n",
    "#Task1\n",
    "\n",
    "word1 = input(\"Enter a string: \")\n",
    "word2 = input(\"Enter another string: \")\n",
    "\n",
    "word1 = word1.split(\", \")\n",
    "word2 = word2.split(\", \")\n",
    "\n",
    "dic1 = {}\n",
    "dic2 = {}\n",
    "\n",
    "for elm in word1:\n",
    "    elm = elm.split(\": \")\n",
    "    dic1[elm[0]] = int(elm[1])\n",
    "#print(dic1)\n",
    "\n",
    "for elm in word2:\n",
    "    elm = elm.split(\": \")\n",
    "    dic2[elm[0]] = int(elm[1])\n",
    "#print(dic2)\n",
    "\n",
    "finallst = []\n",
    "\n",
    "\n",
    "for key, val in dic2.items():\n",
    "    if key in dic1.keys():\n",
    "        temp = dic1[key] + val\n",
    "        dic1[key] = temp\n",
    "        if temp not in finallst:\n",
    "            finallst.append(temp)\n",
    "    else:\n",
    "        dic1[key] = val\n",
    "        if val not in finallst:\n",
    "            finallst.append(val)\n",
    "print(dic1)\n",
    "finallst = sorted(finallst)\n",
    "finallst = tuple(finallst)\n",
    "print(\"Values:\",finallst)"
   ]
  },
  {
   "cell_type": "code",
   "execution_count": 16,
   "id": "7d734aa8",
   "metadata": {},
   "outputs": [
    {
     "name": "stdout",
     "output_type": "stream",
     "text": [
      "Enter a number: 10\n",
      "Enter a number: 20\n",
      "Enter a number: 20\n",
      "Enter a number: 30\n",
      "Enter a number: 10\n",
      "Enter a number: 50\n",
      "Enter a number: 90\n",
      "Enter a number: STOP\n",
      "10 - 2 times\n",
      "20 - 2 times\n",
      "30 - 1 times\n",
      "50 - 1 times\n",
      "90 - 1 times\n"
     ]
    }
   ],
   "source": [
    "#Dictionary & Tuple\n",
    "#Task2\n",
    "\n",
    "lst = []\n",
    "while True:\n",
    "\n",
    "    num = input(\"Enter a number: \")\n",
    "    if num == \"STOP\":\n",
    "        break\n",
    "    num = int(num)\n",
    "    lst.append(num)\n",
    "dic = {}\n",
    "\n",
    "for elm in lst:\n",
    "    if elm in dic.keys():\n",
    "        count = dic[elm]\n",
    "        count += 1\n",
    "        dic[elm] = count\n",
    "    else:\n",
    "        dic[elm] = 1\n",
    "\n",
    "for key,value in dic.items():\n",
    "    print(str(key)+\" - \"+str(value)+\" times\")"
   ]
  },
  {
   "cell_type": "code",
   "execution_count": 21,
   "id": "67f070f1",
   "metadata": {},
   "outputs": [
    {
     "name": "stdout",
     "output_type": "stream",
     "text": [
      "Enter your dictionary: key1 : value1, key2 : value2, key3 : value1, key4 : value1\n",
      "{'value1': ['key1', 'key3', 'key4'], 'value2': ['key2']}\n"
     ]
    }
   ],
   "source": [
    "#Dictionary & Tuple\n",
    "#Task3\n",
    "\n",
    "lst = input(\"Enter your dictionary: \")\n",
    "lst = lst.split(\", \")\n",
    "dic = {}\n",
    "\n",
    "for elm in lst:\n",
    "    elm = elm.split(\" : \")\n",
    "    if elm[1] in dic.keys():\n",
    "        temp = dic[elm[1]]\n",
    "        temp.append(elm[0])\n",
    "        dic[elm[1]] = temp\n",
    "    else:\n",
    "        dic[elm[1]] = [elm[0]]\n",
    "print(dic)"
   ]
  },
  {
   "cell_type": "code",
   "execution_count": 18,
   "id": "59c0bfc0",
   "metadata": {},
   "outputs": [
    {
     "name": "stdout",
     "output_type": "stream",
     "text": [
      "Enter a word: evil\n",
      "Enter another word: live\n",
      "Those strings are anagrams.\n"
     ]
    }
   ],
   "source": [
    "#Dictionary & Tuple\n",
    "#Task4\n",
    "\n",
    "word1 = input(\"Enter a word: \")\n",
    "word2 = input(\"Enter another word: \")\n",
    "\n",
    "word1 = word1.lower()\n",
    "word2 = word2.lower()\n",
    "\n",
    "dic1 = {}\n",
    "dic2 = {}\n",
    "\n",
    "for elm in word1:\n",
    "    if elm in dic1.keys():\n",
    "        count = dic1[elm]\n",
    "        count += 1\n",
    "        dic1[elm] = count\n",
    "    else:\n",
    "        dic1[elm] = 1\n",
    "\n",
    "for elm in word2:\n",
    "    if elm in dic2.keys():\n",
    "        count = dic2[elm]\n",
    "        count += 1\n",
    "        dic2[elm] = count\n",
    "    else:\n",
    "        dic2[elm] = 1\n",
    "if dic1 == dic2 and word1 != word2:\n",
    "    print(\"Those strings are anagrams.\")\n",
    "else:\n",
    "    print(\"Those strings are not anagrams.\")"
   ]
  },
  {
   "cell_type": "code",
   "execution_count": 19,
   "id": "c027f1f7",
   "metadata": {},
   "outputs": [
    {
     "name": "stdout",
     "output_type": "stream",
     "text": [
      "Enter your string: Hello, World!\n",
      "4433555555666110966677755531111\n"
     ]
    }
   ],
   "source": [
    "#Dictionary & Tuple\n",
    "#Task5\n",
    "\n",
    "dic = {\n",
    "    \"1\": [\".\",\",\",\"?\",\"!\",\":\"],\n",
    "    \"2\": [\"A\",\"B\",\"C\"],\n",
    "    \"3\":[\"D\",\"E\",\"F\"],\n",
    "    \"4\":[\"G\",\"H\",\"I\"],\n",
    "    \"5\":[\"J\",\"K\",\"L\"],\n",
    "    \"6\":[\"M\",\"N\",\"O\"],\n",
    "    \"7\":[\"P\",\"Q\",\"R\",\"S\"],\n",
    "    \"8\":[\"T\",\"U\",\"V\"],\n",
    "    \"9\":[\"W\",\"S\",\"Y\",\"Z\"],\n",
    "    \"0\":[\" \"]\n",
    "\n",
    "\n",
    "}\n",
    "\n",
    "word = input(\"Enter your string: \")\n",
    "final = \"\"\n",
    "\n",
    "for elm in word:\n",
    "    elm = elm.upper()\n",
    "    for key,val in dic.items():\n",
    "        if elm in val:\n",
    "            count = val.index(elm) + 1\n",
    "            temp = count * key\n",
    "            final += temp\n",
    "print(final)"
   ]
  },
  {
   "cell_type": "code",
   "execution_count": null,
   "id": "b2e132b6",
   "metadata": {},
   "outputs": [],
   "source": []
  }
 ],
 "metadata": {
  "kernelspec": {
   "display_name": "Python 3",
   "language": "python",
   "name": "python3"
  },
  "language_info": {
   "codemirror_mode": {
    "name": "ipython",
    "version": 3
   },
   "file_extension": ".py",
   "mimetype": "text/x-python",
   "name": "python",
   "nbconvert_exporter": "python",
   "pygments_lexer": "ipython3",
   "version": "3.8.8"
  }
 },
 "nbformat": 4,
 "nbformat_minor": 5
}
