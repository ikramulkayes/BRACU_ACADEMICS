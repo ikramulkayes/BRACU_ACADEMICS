{
 "cells": [
  {
   "cell_type": "code",
   "execution_count": 2,
   "id": "d0a31bd0",
   "metadata": {},
   "outputs": [
    {
     "name": "stdout",
     "output_type": "stream",
     "text": [
      "Enter a number: 2\n",
      "Enter anoter number: 3\n",
      "0.6\n"
     ]
    }
   ],
   "source": [
    "#Task 1\n",
    "def frac(num1,num2):\n",
    "    if num1 == 0 or num2 ==0:\n",
    "        return 0\n",
    "    else:\n",
    "        sum1 = num1 / num2\n",
    "        sum1 = str(sum1)\n",
    "        sum1 = sum1.split(\".\")\n",
    "        final = \"0.\"+ sum1[1][0]\n",
    "        final = float(final)\n",
    "        return final\n",
    "\n",
    "num1 = int(input(\"Enter a number: \"))    \n",
    "num2 = int(input(\"Enter anoter number: \"))  \n",
    "print(frac(num1,num2))"
   ]
  },
  {
   "cell_type": "code",
   "execution_count": 2,
   "id": "395f9332",
   "metadata": {},
   "outputs": [
    {
     "name": "stdout",
     "output_type": "stream",
     "text": [
      "Enter your height: 175.0\n",
      "Enter your weight: 96\n",
      "Score is 31.3. You are Obese\n"
     ]
    }
   ],
   "source": [
    "#Task 2\n",
    "def bmi(height,weight):\n",
    "    height = height /100\n",
    "    sum1 = weight / (height*height)\n",
    "    sum1 = round(sum1,1)\n",
    "    if sum1 < 18.5:\n",
    "        return(f\"Score is {sum1}. You are Underweight\")\n",
    "    elif sum1 >= 18.5 and sum1 <= 24.9:\n",
    "        return(f\"Score is {sum1}. You are Normal\")\n",
    "    elif sum1 >=25 and sum1 < 30:\n",
    "        return(f\"Score is {sum1}. You are Overweight\")\n",
    "    else:\n",
    "        return(f\"Score is {sum1}. You are Obese\")\n",
    "\n",
    "num1 = float(input(\"Enter your height: \"))\n",
    "num2 = float(input(\"Enter your weight: \"))\n",
    "print(bmi(num1,num2))\n"
   ]
  },
  {
   "cell_type": "code",
   "execution_count": 6,
   "id": "5099e4cf",
   "metadata": {},
   "outputs": [
    {
     "name": "stdout",
     "output_type": "stream",
     "text": [
      "Enter a number: 3\n",
      "Enter anoter number: 16\n",
      "Enter your limit: 3\n",
      "45\n"
     ]
    }
   ],
   "source": [
    "#Task 3\n",
    "def maxmin(min,max,count):\n",
    "    sum1 = 0\n",
    "    for elm in range(min,max,count):\n",
    "        sum1 += elm\n",
    "    return sum1\n",
    "num1 = int(input(\"Enter a number: \"))    \n",
    "num2 = int(input(\"Enter anoter number: \"))\n",
    "num3 = int(input(\"Enter your limit: \"))\n",
    "print(maxmin(num1,num2,num3))"
   ]
  },
  {
   "cell_type": "code",
   "execution_count": 3,
   "id": "73bd6f0c",
   "metadata": {},
   "outputs": [
    {
     "name": "stdout",
     "output_type": "stream",
     "text": [
      "ITEM: Beef Burger\n",
      "Location: Dhanmondi\n",
      "243.6\n"
     ]
    }
   ],
   "source": [
    "#Task 4\n",
    "def order(choice,location = \"Mohakhali\"):\n",
    "    menu = {\n",
    "        \"BBQ Chicken Cheese Burger\": 250,\n",
    "        \"Beef Burger\": 170,\n",
    "        \"Naga Drums\":200\n",
    "    }\n",
    "    \n",
    "    item = menu[choice]\n",
    "\n",
    "\n",
    "    item += item * 0.08\n",
    "    if location == \"Mohakhali\":\n",
    "        item += 40\n",
    "    else:\n",
    "        item += 60\n",
    "    return item\n",
    "\n",
    "item = input(\"ITEM: \")\n",
    "location = input(\"Location: \")\n",
    "\n",
    "if location == \"\":\n",
    "    print(order(item))\n",
    "else:\n",
    "    print(order(item,location))"
   ]
  },
  {
   "cell_type": "code",
   "execution_count": 9,
   "id": "c68ac93d",
   "metadata": {},
   "outputs": [
    {
     "name": "stdout",
     "output_type": "stream",
     "text": [
      "Enter your email: alice@sheba.com\n",
      "Enter your newdomain: sheba.com\n",
      "Enter your old domain: \n",
      "Unchanged: alice@sheba.com\n"
     ]
    }
   ],
   "source": [
    "#Task 5\n",
    "def domainchanger(email,newdom,olddom = \"1\"):\n",
    "    email = email.split(\"@\")\n",
    "\n",
    "    if newdom != email[1]:\n",
    "        newemail = email[0] + \"@\"+ newdom\n",
    "        return f\"Changed: {newemail}\"\n",
    "    else:\n",
    "        newemail = email[0] + \"@\"+ email[1]\n",
    "        return f\"Unchanged: {newemail}\"\n",
    "\n",
    "email = input(\"Enter your email: \")\n",
    "newdom = input(\"Enter your newdomain: \")\n",
    "olddom = input(\"Enter your old domain: \")\n",
    "\n",
    "if olddom == \"\":\n",
    "    print(domainchanger(email,newdom))\n",
    "else:\n",
    "    print(domainchanger(email,newdom,olddom))"
   ]
  },
  {
   "cell_type": "code",
   "execution_count": 5,
   "id": "adfb901a",
   "metadata": {},
   "outputs": [
    {
     "name": "stdout",
     "output_type": "stream",
     "text": [
      "Enter a string: steve jobs ii\n",
      "Vowels: e, e, o, i, i. Total number of vowels: 5\n"
     ]
    }
   ],
   "source": [
    "#Task 6\n",
    "def vowelfinder(word):\n",
    "    vlst = [\"a\",\"e\",\"i\",\"o\",\"u\"]\n",
    "    vstring = \"\"\n",
    "    word = word.lower()\n",
    "    count = 0\n",
    "    for elm in word:\n",
    "        if elm in vlst:\n",
    "            vstring += elm + \", \"\n",
    "            count += 1\n",
    "    \n",
    "    if vstring == \"\":\n",
    "        return \"No vowels in the name\"\n",
    "    else:\n",
    "        vstring = vstring.rstrip(\", \")\n",
    "        return f\"Vowels: {vstring}. Total number of vowels: {count}\"\n",
    "\n",
    "word = input(\"Enter a string: \")\n",
    "print(vowelfinder(word))"
   ]
  },
  {
   "cell_type": "code",
   "execution_count": 16,
   "id": "32443a8b",
   "metadata": {},
   "outputs": [
    {
     "name": "stdout",
     "output_type": "stream",
     "text": [
      "Enter a string: kayak\n",
      "Palindrome\n"
     ]
    }
   ],
   "source": [
    "#Task 7\n",
    "def palindromechecker(word):\n",
    "    vanilaword = \"\"\n",
    "    for elm in word:\n",
    "        if elm != \" \":\n",
    "            vanilaword += elm\n",
    "    \n",
    "    revword = vanilaword[::-1]\n",
    "    if vanilaword == revword:\n",
    "        return \"Palindrome\"\n",
    "    else:\n",
    "        return \"Not a palindrome\"\n",
    "\n",
    "word = input(\"Enter a string: \")\n",
    "print(palindromechecker(word))"
   ]
  },
  {
   "cell_type": "code",
   "execution_count": 6,
   "id": "369bf4b8",
   "metadata": {},
   "outputs": [
    {
     "name": "stdout",
     "output_type": "stream",
     "text": [
      "Enter number of days: 4320\n",
      "11 years, 10 months and 5 days\n"
     ]
    }
   ],
   "source": [
    "#Task 8\n",
    "def timeconverter(days):\n",
    "    years = days // 365\n",
    "    days = days % 365\n",
    "    months = days // 30\n",
    "    days = days % 30\n",
    "\n",
    "\n",
    "    print(f\"{years} years, {months} months and {days} days\")\n",
    "\n",
    "days = input(\"Enter number of days: \")\n",
    "days = int(days)\n",
    "timeconverter(days)"
   ]
  },
  {
   "cell_type": "code",
   "execution_count": 8,
   "id": "13f3b242",
   "metadata": {},
   "outputs": [
    {
     "name": "stdout",
     "output_type": "stream",
     "text": [
      "Enter your string: my favourite animal is a dog. a dog has sharp teeth so that it can eat flesh very easily. do you know my pet dog’s name? i love my pet very much.'\n",
      "My favourite animal is a dog. A dog has sharp teeth so that it can eat flesh very easily. Do you know my pet dog’s name? I love my pet very much.'\n"
     ]
    }
   ],
   "source": [
    "#Task 9\n",
    "def stringfixer(sentence):\n",
    "    sentence = sentence.split()\n",
    "    symbollst = [\".\",\"!\",\"?\"]\n",
    "    flag = False\n",
    "    count = 0\n",
    "    final  = \"\"\n",
    "    for elm in sentence:\n",
    "        if count ==0:\n",
    "            elm = elm.capitalize()\n",
    "            count += 1\n",
    "        if flag:\n",
    "            elm = elm.capitalize()\n",
    "            flag = False\n",
    "        for letter in elm:\n",
    "            if letter in symbollst:\n",
    "                flag = True\n",
    "        if elm == \"i\":\n",
    "            elm = elm.capitalize()\n",
    "        elif \"i\" in elm:\n",
    "            if len(elm) == 2:\n",
    "                if elm[1] in symbollst:\n",
    "                    elm = elm.capitalize()\n",
    "        final += elm + \" \"\n",
    "    final = final.rstrip()\n",
    "    return final\n",
    "\n",
    "sentence = input(\"Enter your string: \")\n",
    "print(stringfixer(sentence))            \n",
    "        "
   ]
  },
  {
   "cell_type": "code",
   "execution_count": null,
   "id": "bc675abc",
   "metadata": {},
   "outputs": [],
   "source": []
  }
 ],
 "metadata": {
  "kernelspec": {
   "display_name": "Python 3",
   "language": "python",
   "name": "python3"
  },
  "language_info": {
   "codemirror_mode": {
    "name": "ipython",
    "version": 3
   },
   "file_extension": ".py",
   "mimetype": "text/x-python",
   "name": "python",
   "nbconvert_exporter": "python",
   "pygments_lexer": "ipython3",
   "version": "3.8.8"
  }
 },
 "nbformat": 4,
 "nbformat_minor": 5
}
